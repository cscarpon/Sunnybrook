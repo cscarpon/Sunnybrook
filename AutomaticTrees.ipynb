{
 "cells": [
  {
   "cell_type": "markdown",
   "id": "81cfc957-018a-42e3-961a-bbfbd2d174ca",
   "metadata": {},
   "source": [
    "# Generating object masks from input prompts with SAM"
   ]
  },
  {
   "cell_type": "code",
   "execution_count": null,
   "id": "3e3a1bfd-c4e1-4d39-9269-e30bac5b0b09",
   "metadata": {},
   "outputs": [],
   "source": [
    "# %pip install segment-geospatial\n",
    "# %pip install torch torchvision torchaudio -f https://download.pytorch.org/whl/torch_stable.html.\n",
    "# %pip install xarray"
   ]
  },
  {
   "cell_type": "code",
   "execution_count": 2,
   "id": "f7fec7b7-5531-420a-adae-5547c8469cdc",
   "metadata": {},
   "outputs": [],
   "source": [
    "import os\n",
    "import leafmap\n",
    "from samgeo import SamGeo, show_image, download_file, overlay_images, tms_to_geotiff, split_raster, merge_rasters, raster_to_vector\n",
    "from samgeo.text_sam import LangSAM\n",
    "import xarray\n",
    "import torch"
   ]
  },
  {
   "cell_type": "markdown",
   "id": "7c1aa38f-2227-4639-9a44-4140445a7fcd",
   "metadata": {},
   "source": [
    "# Plotting the Satellite imagery"
   ]
  },
  {
   "cell_type": "code",
   "execution_count": 1,
   "id": "88aa7f3f-9f3d-4eb4-aa71-91de5921aae7",
   "metadata": {},
   "outputs": [],
   "source": [
    "image = \"C:/Users/Data/Tifs/2018.tif\""
   ]
  },
  {
   "cell_type": "code",
   "execution_count": 3,
   "id": "e3bc8152-bdc7-430e-80d8-08b2aa80b295",
   "metadata": {
    "scrolled": true
   },
   "outputs": [
    {
     "data": {
      "application/vnd.jupyter.widget-view+json": {
       "model_id": "cc1f27ea061f40b8a2a094a03d4ce0c9",
       "version_major": 2,
       "version_minor": 0
      },
      "text/plain": [
       "Map(center=[43.722069426835596, -79.37448883804542], controls=(ZoomControl(options=['position', 'zoom_in_text'…"
      ]
     },
     "execution_count": 3,
     "metadata": {},
     "output_type": "execute_result"
    }
   ],
   "source": [
    "m = leafmap.Map(center=[43.722069426835596, -79.37448883804542], zoom=18, height=\"1000px\")\n",
    "m.add_basemap(\"SATELLITE\")\n",
    "m.layers[-1].visible = False\n",
    "m.add_raster(image, layer_name=\"Image\")\n",
    "m "
   ]
  },
  {
   "cell_type": "code",
   "execution_count": 5,
   "id": "720efe09-7878-4289-a9bb-f7f96e43101f",
   "metadata": {},
   "outputs": [],
   "source": [
    "# if m.user_roi_bounds() is not None:\n",
    "#     bbox = m.user_roi_bounds()\n",
    "# else:\n",
    "#     bbox = [-122.2659, 37.8682, -122.2521, 37.8741]"
   ]
  },
  {
   "cell_type": "markdown",
   "id": "96bf3718-899f-489a-abd8-540367eb8dfc",
   "metadata": {},
   "source": [
    "## Initialize SAM class\n",
    "\n",
    "Specify the file path to the model checkpoint. If it is not specified, the model will to downloaded to the working directory."
   ]
  },
  {
   "cell_type": "code",
   "execution_count": 4,
   "id": "15a47d14-56be-4499-8390-c52822c3514f",
   "metadata": {},
   "outputs": [],
   "source": [
    "# Define the input and output directories\n",
    "results_dir = \"C:/Users/Results/2021/\"  # Directory to save the results"
   ]
  },
  {
   "cell_type": "code",
   "execution_count": 5,
   "id": "7cb66ec2-b63c-44ee-b7a4-f01f84db062b",
   "metadata": {},
   "outputs": [],
   "source": [
    "checkpoint = os.path.join(results_dir, 'sam_vit_h_4b8939.pth')"
   ]
  },
  {
   "cell_type": "code",
   "execution_count": 6,
   "id": "b74f399a",
   "metadata": {},
   "outputs": [],
   "source": [
    "sam = SamGeo(\n",
    "    model_type=\"vit_h\",\n",
    "    automatic = False,\n",
    "    sam_kwargs=None,\n",
    "    checkpoint=checkpoint,\n",
    "    device = \"cuda\"\n",
    ")"
   ]
  },
  {
   "cell_type": "code",
   "execution_count": 7,
   "id": "b11f1c00",
   "metadata": {},
   "outputs": [],
   "source": [
    "sam.set_image(image)"
   ]
  },
  {
   "cell_type": "code",
   "execution_count": 8,
   "id": "030f9a5f",
   "metadata": {},
   "outputs": [
    {
     "data": {
      "application/vnd.jupyter.widget-view+json": {
       "model_id": "a6de321c014e4e7bb7beb07205efb661",
       "version_major": 2,
       "version_minor": 0
      },
      "text/plain": [
       "Map(center=[20, 0], controls=(ZoomControl(options=['position', 'zoom_in_text', 'zoom_in_title', 'zoom_out_text…"
      ]
     },
     "execution_count": 8,
     "metadata": {},
     "output_type": "execute_result"
    }
   ],
   "source": [
    "m = sam.show_map()\n",
    "m"
   ]
  },
  {
   "cell_type": "code",
   "execution_count": 10,
   "id": "9fcb134b",
   "metadata": {},
   "outputs": [],
   "source": [
    "# This section is to split the image into tiles to be friendlier for model processing\n",
    "# split_raster(image, out_dir=out_dir, tile_size=(1000, 1000), overlap=0)\n",
    "\n",
    "# # List all image tiles\n",
    "# tile_files = [f for f in os.listdir(tiles_dir) if os.path.isfile(os.path.join(tiles_dir, f))]"
   ]
  },
  {
   "cell_type": "code",
   "execution_count": null,
   "id": "d31d6ad2",
   "metadata": {},
   "outputs": [],
   "source": [
    "# Process each tile\n",
    "# for tile_file in tile_files:\n",
    "#     tile_path = os.path.join(tiles_dir, tile_file)\n",
    "#     output_path = os.path.join(masks_dir, f\"mask_{tile_file}\")\n",
    "    \n",
    "#     # Assuming the method to generate masks is called 'generate'\n",
    "#     # You will need to adjust this according to the actual method's parameters and functionality\n",
    "#     sam.generate(source=tile_path, output=output_path)\n",
    "    \n",
    "#     print(f\"Processed {tile_path} and saved mask to {output_path}\")"
   ]
  },
  {
   "cell_type": "code",
   "execution_count": 26,
   "id": "850839b1",
   "metadata": {},
   "outputs": [],
   "source": [
    "# output = \"C:/Users/Data/2018_mask.tif\"\n"
   ]
  },
  {
   "cell_type": "code",
   "execution_count": 31,
   "id": "74549634",
   "metadata": {},
   "outputs": [],
   "source": [
    "# merge_rasters(masks_dir, output, input_pattern='*.tif', output_format='GTiff', output_nodata=None, output_options=['COMPRESS=DEFLATE'])\n",
    "# sam.raster_to_vector(image = output, output= output_vector)"
   ]
  },
  {
   "cell_type": "code",
   "execution_count": 32,
   "id": "9814f76f-9419-4216-bb5c-286847df1693",
   "metadata": {},
   "outputs": [],
   "source": [
    "# sam = LangSAM()"
   ]
  },
  {
   "cell_type": "code",
   "execution_count": null,
   "id": "3c71147e-edbc-4152-a05b-1d92cd2e78ab",
   "metadata": {},
   "outputs": [],
   "source": [
    "# Change prompt to the desired feature\n",
    "# text_prompt = \"tree\""
   ]
  },
  {
   "cell_type": "code",
   "execution_count": 36,
   "id": "c7163b68",
   "metadata": {},
   "outputs": [],
   "source": [
    "# WDirectory to save the results\n",
    "# tiles_dir = \"C:/UsersResults/Tiles/\"\n",
    "# out_dir = \"C:/Users/Results/Trees\"  # Directory to save the results"
   ]
  },
  {
   "cell_type": "code",
   "execution_count": null,
   "id": "9d70626d",
   "metadata": {},
   "outputs": [],
   "source": [
    "# sam.predict_batch(\n",
    "#     images= tiles_dir,\n",
    "#     out_dir= out_dir,\n",
    "#     text_prompt=text_prompt,\n",
    "#     box_threshold=0.6,\n",
    "#     text_threshold=0.6,\n",
    "#     mask_multiplier=255,\n",
    "#     dtype=\"uint8\",\n",
    "#     merge=True,\n",
    "#     verbose=True,\n",
    "# )"
   ]
  },
  {
   "cell_type": "code",
   "execution_count": 42,
   "id": "0ba209e9",
   "metadata": {},
   "outputs": [],
   "source": [
    "# output_mask = \"C:/Users/Results/Tree_mask.tif\"\n",
    "# output_vector = \"C:/Users/Results/2018_mask.shp\""
   ]
  },
  {
   "cell_type": "code",
   "execution_count": 43,
   "id": "027319a7",
   "metadata": {},
   "outputs": [],
   "source": [
    "# merge_rasters(out_dir, output_mask, input_pattern='*.tif', output_format='GTiff', output_nodata=None, output_options=['COMPRESS=DEFLATE'])"
   ]
  },
  {
   "cell_type": "code",
   "execution_count": 44,
   "id": "196b82de",
   "metadata": {},
   "outputs": [],
   "source": [
    "# sam.raster_to_vector(image = output_mask, output= output_vector)"
   ]
  },
  {
   "cell_type": "code",
   "execution_count": null,
   "id": "9281f11f-a86e-4a34-93c7-45c3a67b96ab",
   "metadata": {},
   "outputs": [],
   "source": [
    "# sam.show_masks(cmap=\"binary_r\")"
   ]
  },
  {
   "cell_type": "code",
   "execution_count": null,
   "id": "3871d4da-9748-48b8-8c2e-71f215847fe0",
   "metadata": {},
   "outputs": [],
   "source": [
    "# sam.show_anns(axis=\"off\", alpha=1, output=\"annotations.tif\")"
   ]
  },
  {
   "cell_type": "code",
   "execution_count": null,
   "id": "37f754cd-99e7-42b9-a926-b43a6cc51d0b",
   "metadata": {},
   "outputs": [],
   "source": [
    "# leafmap.image_comparison(\n",
    "#     \"satellite.tif\",\n",
    "#     \"annotations.tif\",\n",
    "#     label1=\"Satellite Image\",\n",
    "#     label2=\"Image Segmentation\",\n",
    "# )"
   ]
  },
  {
   "cell_type": "code",
   "execution_count": null,
   "id": "abdf8730-bf73-4088-aa36-9a9b320f21da",
   "metadata": {},
   "outputs": [],
   "source": [
    "# m.add_raster(\"annotations.tif\", alpha=0.5, layer_name=\"Masks\")\n",
    "# m"
   ]
  }
 ],
 "metadata": {
  "kernelspec": {
   "display_name": "Python 3 (ipykernel)",
   "language": "python",
   "name": "python3"
  },
  "language_info": {
   "codemirror_mode": {
    "name": "ipython",
    "version": 3
   },
   "file_extension": ".py",
   "mimetype": "text/x-python",
   "name": "python",
   "nbconvert_exporter": "python",
   "pygments_lexer": "ipython3",
   "version": "3.11.8"
  }
 },
 "nbformat": 4,
 "nbformat_minor": 5
}
