{
 "cells": [
  {
   "cell_type": "markdown",
   "id": "81cfc957-018a-42e3-961a-bbfbd2d174ca",
   "metadata": {},
   "source": [
    "# Generating object masks from input prompts with SAM"
   ]
  },
  {
   "cell_type": "code",
   "execution_count": 1,
   "id": "3e3a1bfd-c4e1-4d39-9269-e30bac5b0b09",
   "metadata": {},
   "outputs": [
    {
     "name": "stdout",
     "output_type": "stream",
     "text": [
      "Requirement already satisfied: segment-geospatial in c:\\users\\cscar\\anaconda3\\envs\\sam_geo\\lib\\site-packages (0.10.4)\n",
      "Requirement already satisfied: gdown in c:\\users\\cscar\\anaconda3\\envs\\sam_geo\\lib\\site-packages (from segment-geospatial) (5.1.0)\n",
      "Requirement already satisfied: geopandas in c:\\users\\cscar\\anaconda3\\envs\\sam_geo\\lib\\site-packages (from segment-geospatial) (0.14.3)\n",
      "Requirement already satisfied: huggingface-hub in c:\\users\\cscar\\anaconda3\\envs\\sam_geo\\lib\\site-packages (from segment-geospatial) (0.22.2)\n",
      "Requirement already satisfied: leafmap in c:\\users\\cscar\\anaconda3\\envs\\sam_geo\\lib\\site-packages (from segment-geospatial) (0.31.7)\n",
      "Requirement already satisfied: localtileserver in c:\\users\\cscar\\anaconda3\\envs\\sam_geo\\lib\\site-packages (from segment-geospatial) (0.10.2)\n",
      "Requirement already satisfied: matplotlib in c:\\users\\cscar\\anaconda3\\envs\\sam_geo\\lib\\site-packages (from segment-geospatial) (3.8.3)\n",
      "Requirement already satisfied: opencv-python in c:\\users\\cscar\\anaconda3\\envs\\sam_geo\\lib\\site-packages (from segment-geospatial) (4.9.0)\n",
      "Requirement already satisfied: patool in c:\\users\\cscar\\anaconda3\\envs\\sam_geo\\lib\\site-packages (from segment-geospatial) (2.2.0)\n",
      "Requirement already satisfied: pycocotools in c:\\users\\cscar\\anaconda3\\envs\\sam_geo\\lib\\site-packages (from segment-geospatial) (2.0.6)\n",
      "Requirement already satisfied: pyproj in c:\\users\\cscar\\anaconda3\\envs\\sam_geo\\lib\\site-packages (from segment-geospatial) (3.6.1)\n",
      "Requirement already satisfied: rasterio in c:\\users\\cscar\\anaconda3\\envs\\sam_geo\\lib\\site-packages (from segment-geospatial) (1.3.9)\n",
      "Requirement already satisfied: segment-anything-hq in c:\\users\\cscar\\anaconda3\\envs\\sam_geo\\lib\\site-packages (from segment-geospatial) (0.3)\n",
      "Requirement already satisfied: segment-anything-py in c:\\users\\cscar\\anaconda3\\envs\\sam_geo\\lib\\site-packages (from segment-geospatial) (1.0)\n",
      "Requirement already satisfied: timm in c:\\users\\cscar\\anaconda3\\envs\\sam_geo\\lib\\site-packages (from segment-geospatial) (0.9.16)\n",
      "Requirement already satisfied: tqdm in c:\\users\\cscar\\anaconda3\\envs\\sam_geo\\lib\\site-packages (from segment-geospatial) (4.66.2)\n",
      "Requirement already satisfied: xyzservices in c:\\users\\cscar\\anaconda3\\envs\\sam_geo\\lib\\site-packages (from segment-geospatial) (2023.10.1)\n",
      "Requirement already satisfied: beautifulsoup4 in c:\\users\\cscar\\anaconda3\\envs\\sam_geo\\lib\\site-packages (from gdown->segment-geospatial) (4.12.3)\n",
      "Requirement already satisfied: filelock in c:\\users\\cscar\\anaconda3\\envs\\sam_geo\\lib\\site-packages (from gdown->segment-geospatial) (3.13.3)\n",
      "Requirement already satisfied: requests[socks] in c:\\users\\cscar\\anaconda3\\envs\\sam_geo\\lib\\site-packages (from gdown->segment-geospatial) (2.31.0)\n",
      "Requirement already satisfied: fiona>=1.8.21 in c:\\users\\cscar\\anaconda3\\envs\\sam_geo\\lib\\site-packages (from geopandas->segment-geospatial) (1.9.6)\n",
      "Requirement already satisfied: packaging in c:\\users\\cscar\\anaconda3\\envs\\sam_geo\\lib\\site-packages (from geopandas->segment-geospatial) (24.0)\n",
      "Requirement already satisfied: pandas>=1.4.0 in c:\\users\\cscar\\anaconda3\\envs\\sam_geo\\lib\\site-packages (from geopandas->segment-geospatial) (2.2.1)\n",
      "Requirement already satisfied: shapely>=1.8.0 in c:\\users\\cscar\\anaconda3\\envs\\sam_geo\\lib\\site-packages (from geopandas->segment-geospatial) (2.0.3)\n",
      "Requirement already satisfied: certifi in c:\\users\\cscar\\anaconda3\\envs\\sam_geo\\lib\\site-packages (from pyproj->segment-geospatial) (2024.2.2)\n",
      "Requirement already satisfied: fsspec>=2023.5.0 in c:\\users\\cscar\\anaconda3\\envs\\sam_geo\\lib\\site-packages (from huggingface-hub->segment-geospatial) (2024.3.1)\n",
      "Requirement already satisfied: pyyaml>=5.1 in c:\\users\\cscar\\anaconda3\\envs\\sam_geo\\lib\\site-packages (from huggingface-hub->segment-geospatial) (6.0.1)\n",
      "Requirement already satisfied: typing-extensions>=3.7.4.3 in c:\\users\\cscar\\anaconda3\\envs\\sam_geo\\lib\\site-packages (from huggingface-hub->segment-geospatial) (4.10.0)\n",
      "Requirement already satisfied: colorama in c:\\users\\cscar\\anaconda3\\envs\\sam_geo\\lib\\site-packages (from tqdm->segment-geospatial) (0.4.6)\n",
      "Requirement already satisfied: bqplot in c:\\users\\cscar\\anaconda3\\envs\\sam_geo\\lib\\site-packages (from leafmap->segment-geospatial) (0.12.43)\n",
      "Requirement already satisfied: colour in c:\\users\\cscar\\anaconda3\\envs\\sam_geo\\lib\\site-packages (from leafmap->segment-geospatial) (0.1.5)\n",
      "Requirement already satisfied: duckdb in c:\\users\\cscar\\anaconda3\\envs\\sam_geo\\lib\\site-packages (from leafmap->segment-geospatial) (0.10.1)\n",
      "Requirement already satisfied: folium in c:\\users\\cscar\\anaconda3\\envs\\sam_geo\\lib\\site-packages (from leafmap->segment-geospatial) (0.16.0)\n",
      "Requirement already satisfied: geojson in c:\\users\\cscar\\anaconda3\\envs\\sam_geo\\lib\\site-packages (from leafmap->segment-geospatial) (3.1.0)\n",
      "Requirement already satisfied: ipyevents in c:\\users\\cscar\\anaconda3\\envs\\sam_geo\\lib\\site-packages (from leafmap->segment-geospatial) (2.0.2)\n",
      "Requirement already satisfied: ipyfilechooser in c:\\users\\cscar\\anaconda3\\envs\\sam_geo\\lib\\site-packages (from leafmap->segment-geospatial) (0.6.0)\n",
      "Requirement already satisfied: ipyleaflet in c:\\users\\cscar\\anaconda3\\envs\\sam_geo\\lib\\site-packages (from leafmap->segment-geospatial) (0.18.2)\n",
      "Requirement already satisfied: ipywidgets in c:\\users\\cscar\\anaconda3\\envs\\sam_geo\\lib\\site-packages (from leafmap->segment-geospatial) (8.1.2)\n",
      "Requirement already satisfied: numpy in c:\\users\\cscar\\anaconda3\\envs\\sam_geo\\lib\\site-packages (from leafmap->segment-geospatial) (1.26.4)\n",
      "Requirement already satisfied: plotly in c:\\users\\cscar\\anaconda3\\envs\\sam_geo\\lib\\site-packages (from leafmap->segment-geospatial) (5.19.0)\n",
      "Requirement already satisfied: pyshp in c:\\users\\cscar\\anaconda3\\envs\\sam_geo\\lib\\site-packages (from leafmap->segment-geospatial) (2.3.1)\n",
      "Requirement already satisfied: pystac-client in c:\\users\\cscar\\anaconda3\\envs\\sam_geo\\lib\\site-packages (from leafmap->segment-geospatial) (0.7.6)\n",
      "Requirement already satisfied: python-box in c:\\users\\cscar\\anaconda3\\envs\\sam_geo\\lib\\site-packages (from leafmap->segment-geospatial) (7.1.1)\n",
      "Requirement already satisfied: scooby in c:\\users\\cscar\\anaconda3\\envs\\sam_geo\\lib\\site-packages (from leafmap->segment-geospatial) (0.9.2)\n",
      "Requirement already satisfied: whiteboxgui in c:\\users\\cscar\\anaconda3\\envs\\sam_geo\\lib\\site-packages (from leafmap->segment-geospatial) (2.3.0)\n",
      "Requirement already satisfied: click in c:\\users\\cscar\\anaconda3\\envs\\sam_geo\\lib\\site-packages (from localtileserver->segment-geospatial) (8.1.7)\n",
      "Requirement already satisfied: flask<4,>=2.0.0 in c:\\users\\cscar\\anaconda3\\envs\\sam_geo\\lib\\site-packages (from localtileserver->segment-geospatial) (2.3.3)\n",
      "Requirement already satisfied: Flask-Caching in c:\\users\\cscar\\anaconda3\\envs\\sam_geo\\lib\\site-packages (from localtileserver->segment-geospatial) (2.1.0)\n",
      "Requirement already satisfied: flask-cors in c:\\users\\cscar\\anaconda3\\envs\\sam_geo\\lib\\site-packages (from localtileserver->segment-geospatial) (4.0.0)\n",
      "Requirement already satisfied: flask-restx>=0.5.0 in c:\\users\\cscar\\anaconda3\\envs\\sam_geo\\lib\\site-packages (from localtileserver->segment-geospatial) (1.1.0)\n",
      "Requirement already satisfied: rio-tiler in c:\\users\\cscar\\anaconda3\\envs\\sam_geo\\lib\\site-packages (from localtileserver->segment-geospatial) (6.4.3)\n",
      "Requirement already satisfied: rio-cogeo in c:\\users\\cscar\\anaconda3\\envs\\sam_geo\\lib\\site-packages (from localtileserver->segment-geospatial) (5.3.0)\n",
      "Requirement already satisfied: server-thread in c:\\users\\cscar\\anaconda3\\envs\\sam_geo\\lib\\site-packages (from localtileserver->segment-geospatial) (0.2.0)\n",
      "Requirement already satisfied: werkzeug in c:\\users\\cscar\\anaconda3\\envs\\sam_geo\\lib\\site-packages (from localtileserver->segment-geospatial) (3.0.1)\n",
      "Requirement already satisfied: contourpy>=1.0.1 in c:\\users\\cscar\\anaconda3\\envs\\sam_geo\\lib\\site-packages (from matplotlib->segment-geospatial) (1.2.0)\n",
      "Requirement already satisfied: cycler>=0.10 in c:\\users\\cscar\\anaconda3\\envs\\sam_geo\\lib\\site-packages (from matplotlib->segment-geospatial) (0.12.1)\n",
      "Requirement already satisfied: fonttools>=4.22.0 in c:\\users\\cscar\\anaconda3\\envs\\sam_geo\\lib\\site-packages (from matplotlib->segment-geospatial) (4.50.0)\n",
      "Requirement already satisfied: kiwisolver>=1.3.1 in c:\\users\\cscar\\anaconda3\\envs\\sam_geo\\lib\\site-packages (from matplotlib->segment-geospatial) (1.4.5)\n",
      "Requirement already satisfied: pillow>=8 in c:\\users\\cscar\\anaconda3\\envs\\sam_geo\\lib\\site-packages (from matplotlib->segment-geospatial) (10.2.0)\n",
      "Requirement already satisfied: pyparsing>=2.3.1 in c:\\users\\cscar\\anaconda3\\envs\\sam_geo\\lib\\site-packages (from matplotlib->segment-geospatial) (3.1.2)\n",
      "Requirement already satisfied: python-dateutil>=2.7 in c:\\users\\cscar\\anaconda3\\envs\\sam_geo\\lib\\site-packages (from matplotlib->segment-geospatial) (2.9.0)\n",
      "Requirement already satisfied: affine in c:\\users\\cscar\\anaconda3\\envs\\sam_geo\\lib\\site-packages (from rasterio->segment-geospatial) (2.4.0)\n",
      "Requirement already satisfied: attrs in c:\\users\\cscar\\anaconda3\\envs\\sam_geo\\lib\\site-packages (from rasterio->segment-geospatial) (23.2.0)\n",
      "Requirement already satisfied: cligj>=0.5 in c:\\users\\cscar\\anaconda3\\envs\\sam_geo\\lib\\site-packages (from rasterio->segment-geospatial) (0.7.2)\n",
      "Requirement already satisfied: snuggs>=1.4.1 in c:\\users\\cscar\\anaconda3\\envs\\sam_geo\\lib\\site-packages (from rasterio->segment-geospatial) (1.4.7)\n",
      "Requirement already satisfied: click-plugins in c:\\users\\cscar\\anaconda3\\envs\\sam_geo\\lib\\site-packages (from rasterio->segment-geospatial) (1.1.1)\n",
      "Requirement already satisfied: setuptools in c:\\users\\cscar\\anaconda3\\envs\\sam_geo\\lib\\site-packages (from rasterio->segment-geospatial) (69.2.0)\n",
      "Requirement already satisfied: torch>=1.7 in c:\\users\\cscar\\anaconda3\\envs\\sam_geo\\lib\\site-packages (from segment-anything-hq->segment-geospatial) (2.2.0)\n",
      "Requirement already satisfied: torchvision>=0.8 in c:\\users\\cscar\\anaconda3\\envs\\sam_geo\\lib\\site-packages (from segment-anything-hq->segment-geospatial) (0.15.2a0)\n",
      "Requirement already satisfied: safetensors in c:\\users\\cscar\\anaconda3\\envs\\sam_geo\\lib\\site-packages (from timm->segment-geospatial) (0.4.2)\n",
      "Requirement already satisfied: six in c:\\users\\cscar\\anaconda3\\envs\\sam_geo\\lib\\site-packages (from fiona>=1.8.21->geopandas->segment-geospatial) (1.16.0)\n",
      "Requirement already satisfied: Jinja2>=3.1.2 in c:\\users\\cscar\\anaconda3\\envs\\sam_geo\\lib\\site-packages (from flask<4,>=2.0.0->localtileserver->segment-geospatial) (3.1.3)\n",
      "Requirement already satisfied: itsdangerous>=2.1.2 in c:\\users\\cscar\\anaconda3\\envs\\sam_geo\\lib\\site-packages (from flask<4,>=2.0.0->localtileserver->segment-geospatial) (2.1.2)\n",
      "Requirement already satisfied: blinker>=1.6.2 in c:\\users\\cscar\\anaconda3\\envs\\sam_geo\\lib\\site-packages (from flask<4,>=2.0.0->localtileserver->segment-geospatial) (1.7.0)\n",
      "Requirement already satisfied: aniso8601>=0.82 in c:\\users\\cscar\\anaconda3\\envs\\sam_geo\\lib\\site-packages (from flask-restx>=0.5.0->localtileserver->segment-geospatial) (9.0.1)\n",
      "Requirement already satisfied: jsonschema in c:\\users\\cscar\\anaconda3\\envs\\sam_geo\\lib\\site-packages (from flask-restx>=0.5.0->localtileserver->segment-geospatial) (4.21.1)\n",
      "Requirement already satisfied: pytz in c:\\users\\cscar\\anaconda3\\envs\\sam_geo\\lib\\site-packages (from flask-restx>=0.5.0->localtileserver->segment-geospatial) (2024.1)\n",
      "Requirement already satisfied: tzdata>=2022.7 in c:\\users\\cscar\\anaconda3\\envs\\sam_geo\\lib\\site-packages (from pandas>=1.4.0->geopandas->segment-geospatial) (2024.1)\n",
      "Requirement already satisfied: sympy in c:\\users\\cscar\\anaconda3\\envs\\sam_geo\\lib\\site-packages (from torch>=1.7->segment-anything-hq->segment-geospatial) (1.12)\n",
      "Requirement already satisfied: networkx in c:\\users\\cscar\\anaconda3\\envs\\sam_geo\\lib\\site-packages (from torch>=1.7->segment-anything-hq->segment-geospatial) (3.2.1)\n",
      "Requirement already satisfied: MarkupSafe>=2.1.1 in c:\\users\\cscar\\anaconda3\\envs\\sam_geo\\lib\\site-packages (from werkzeug->localtileserver->segment-geospatial) (2.1.5)\n",
      "Requirement already satisfied: soupsieve>1.2 in c:\\users\\cscar\\anaconda3\\envs\\sam_geo\\lib\\site-packages (from beautifulsoup4->gdown->segment-geospatial) (2.5)\n",
      "Requirement already satisfied: traitlets>=4.3.0 in c:\\users\\cscar\\anaconda3\\envs\\sam_geo\\lib\\site-packages (from bqplot->leafmap->segment-geospatial) (5.14.2)\n",
      "Requirement already satisfied: traittypes>=0.0.6 in c:\\users\\cscar\\anaconda3\\envs\\sam_geo\\lib\\site-packages (from bqplot->leafmap->segment-geospatial) (0.2.1)\n",
      "Requirement already satisfied: comm>=0.1.3 in c:\\users\\cscar\\anaconda3\\envs\\sam_geo\\lib\\site-packages (from ipywidgets->leafmap->segment-geospatial) (0.2.2)\n",
      "Requirement already satisfied: ipython>=6.1.0 in c:\\users\\cscar\\anaconda3\\envs\\sam_geo\\lib\\site-packages (from ipywidgets->leafmap->segment-geospatial) (8.22.2)\n",
      "Requirement already satisfied: widgetsnbextension~=4.0.10 in c:\\users\\cscar\\anaconda3\\envs\\sam_geo\\lib\\site-packages (from ipywidgets->leafmap->segment-geospatial) (4.0.10)\n",
      "Requirement already satisfied: jupyterlab-widgets~=3.0.10 in c:\\users\\cscar\\anaconda3\\envs\\sam_geo\\lib\\site-packages (from ipywidgets->leafmap->segment-geospatial) (3.0.10)\n",
      "Requirement already satisfied: cachelib<0.10.0,>=0.9.0 in c:\\users\\cscar\\anaconda3\\envs\\sam_geo\\lib\\site-packages (from Flask-Caching->localtileserver->segment-geospatial) (0.9.0)\n",
      "Requirement already satisfied: branca>=0.6.0 in c:\\users\\cscar\\anaconda3\\envs\\sam_geo\\lib\\site-packages (from folium->leafmap->segment-geospatial) (0.7.1)\n",
      "Requirement already satisfied: tenacity>=6.2.0 in c:\\users\\cscar\\anaconda3\\envs\\sam_geo\\lib\\site-packages (from plotly->leafmap->segment-geospatial) (8.2.3)\n",
      "Requirement already satisfied: pystac>=1.8.2 in c:\\users\\cscar\\anaconda3\\envs\\sam_geo\\lib\\site-packages (from pystac[validation]>=1.8.2->pystac-client->leafmap->segment-geospatial) (1.10.0)\n",
      "Requirement already satisfied: charset-normalizer<4,>=2 in c:\\users\\cscar\\anaconda3\\envs\\sam_geo\\lib\\site-packages (from requests[socks]->gdown->segment-geospatial) (3.3.2)\n",
      "Requirement already satisfied: idna<4,>=2.5 in c:\\users\\cscar\\anaconda3\\envs\\sam_geo\\lib\\site-packages (from requests[socks]->gdown->segment-geospatial) (3.6)\n",
      "Requirement already satisfied: urllib3<3,>=1.21.1 in c:\\users\\cscar\\anaconda3\\envs\\sam_geo\\lib\\site-packages (from requests[socks]->gdown->segment-geospatial) (2.2.1)\n",
      "Requirement already satisfied: PySocks!=1.5.7,>=1.5.6 in c:\\users\\cscar\\anaconda3\\envs\\sam_geo\\lib\\site-packages (from requests[socks]->gdown->segment-geospatial) (1.7.1)\n",
      "Requirement already satisfied: morecantile<6.0,>=5.0 in c:\\users\\cscar\\anaconda3\\envs\\sam_geo\\lib\\site-packages (from rio-cogeo->localtileserver->segment-geospatial) (5.3.0)\n",
      "Requirement already satisfied: pydantic~=2.0 in c:\\users\\cscar\\anaconda3\\envs\\sam_geo\\lib\\site-packages (from rio-cogeo->localtileserver->segment-geospatial) (2.6.4)\n",
      "Requirement already satisfied: cachetools in c:\\users\\cscar\\anaconda3\\envs\\sam_geo\\lib\\site-packages (from rio-tiler->localtileserver->segment-geospatial) (5.3.3)\n",
      "Requirement already satisfied: color-operations in c:\\users\\cscar\\anaconda3\\envs\\sam_geo\\lib\\site-packages (from rio-tiler->localtileserver->segment-geospatial) (0.1.3)\n",
      "Requirement already satisfied: httpx in c:\\users\\cscar\\anaconda3\\envs\\sam_geo\\lib\\site-packages (from rio-tiler->localtileserver->segment-geospatial) (0.27.0)\n",
      "Requirement already satisfied: numexpr in c:\\users\\cscar\\anaconda3\\envs\\sam_geo\\lib\\site-packages (from rio-tiler->localtileserver->segment-geospatial) (2.8.7)\n",
      "Requirement already satisfied: uvicorn in c:\\users\\cscar\\anaconda3\\envs\\sam_geo\\lib\\site-packages (from server-thread->localtileserver->segment-geospatial) (0.29.0)\n",
      "Requirement already satisfied: ipytree in c:\\users\\cscar\\anaconda3\\envs\\sam_geo\\lib\\site-packages (from whiteboxgui->leafmap->segment-geospatial) (0.2.2)\n",
      "Requirement already satisfied: whitebox in c:\\users\\cscar\\anaconda3\\envs\\sam_geo\\lib\\site-packages (from whiteboxgui->leafmap->segment-geospatial) (2.3.1)\n",
      "Requirement already satisfied: decorator in c:\\users\\cscar\\anaconda3\\envs\\sam_geo\\lib\\site-packages (from ipython>=6.1.0->ipywidgets->leafmap->segment-geospatial) (5.1.1)\n",
      "Requirement already satisfied: jedi>=0.16 in c:\\users\\cscar\\anaconda3\\envs\\sam_geo\\lib\\site-packages (from ipython>=6.1.0->ipywidgets->leafmap->segment-geospatial) (0.19.1)\n",
      "Requirement already satisfied: matplotlib-inline in c:\\users\\cscar\\anaconda3\\envs\\sam_geo\\lib\\site-packages (from ipython>=6.1.0->ipywidgets->leafmap->segment-geospatial) (0.1.6)\n",
      "Requirement already satisfied: prompt-toolkit<3.1.0,>=3.0.41 in c:\\users\\cscar\\anaconda3\\envs\\sam_geo\\lib\\site-packages (from ipython>=6.1.0->ipywidgets->leafmap->segment-geospatial) (3.0.42)\n",
      "Requirement already satisfied: pygments>=2.4.0 in c:\\users\\cscar\\anaconda3\\envs\\sam_geo\\lib\\site-packages (from ipython>=6.1.0->ipywidgets->leafmap->segment-geospatial) (2.17.2)\n",
      "Requirement already satisfied: stack-data in c:\\users\\cscar\\anaconda3\\envs\\sam_geo\\lib\\site-packages (from ipython>=6.1.0->ipywidgets->leafmap->segment-geospatial) (0.6.2)\n",
      "Requirement already satisfied: annotated-types>=0.4.0 in c:\\users\\cscar\\anaconda3\\envs\\sam_geo\\lib\\site-packages (from pydantic~=2.0->rio-cogeo->localtileserver->segment-geospatial) (0.6.0)\n",
      "Requirement already satisfied: pydantic-core==2.16.3 in c:\\users\\cscar\\anaconda3\\envs\\sam_geo\\lib\\site-packages (from pydantic~=2.0->rio-cogeo->localtileserver->segment-geospatial) (2.16.3)\n",
      "Requirement already satisfied: jsonschema-specifications>=2023.03.6 in c:\\users\\cscar\\anaconda3\\envs\\sam_geo\\lib\\site-packages (from jsonschema->flask-restx>=0.5.0->localtileserver->segment-geospatial) (2023.12.1)\n",
      "Requirement already satisfied: referencing>=0.28.4 in c:\\users\\cscar\\anaconda3\\envs\\sam_geo\\lib\\site-packages (from jsonschema->flask-restx>=0.5.0->localtileserver->segment-geospatial) (0.34.0)\n",
      "Requirement already satisfied: rpds-py>=0.7.1 in c:\\users\\cscar\\anaconda3\\envs\\sam_geo\\lib\\site-packages (from jsonschema->flask-restx>=0.5.0->localtileserver->segment-geospatial) (0.18.0)\n",
      "Requirement already satisfied: anyio in c:\\users\\cscar\\anaconda3\\envs\\sam_geo\\lib\\site-packages (from httpx->rio-tiler->localtileserver->segment-geospatial) (4.3.0)\n",
      "Requirement already satisfied: httpcore==1.* in c:\\users\\cscar\\anaconda3\\envs\\sam_geo\\lib\\site-packages (from httpx->rio-tiler->localtileserver->segment-geospatial) (1.0.5)\n",
      "Requirement already satisfied: sniffio in c:\\users\\cscar\\anaconda3\\envs\\sam_geo\\lib\\site-packages (from httpx->rio-tiler->localtileserver->segment-geospatial) (1.3.1)\n",
      "Requirement already satisfied: h11<0.15,>=0.13 in c:\\users\\cscar\\anaconda3\\envs\\sam_geo\\lib\\site-packages (from httpcore==1.*->httpx->rio-tiler->localtileserver->segment-geospatial) (0.14.0)\n",
      "Requirement already satisfied: mpmath>=0.19 in c:\\users\\cscar\\anaconda3\\envs\\sam_geo\\lib\\site-packages (from sympy->torch>=1.7->segment-anything-hq->segment-geospatial) (1.3.0)\n",
      "Requirement already satisfied: parso<0.9.0,>=0.8.3 in c:\\users\\cscar\\anaconda3\\envs\\sam_geo\\lib\\site-packages (from jedi>=0.16->ipython>=6.1.0->ipywidgets->leafmap->segment-geospatial) (0.8.3)\n",
      "Requirement already satisfied: wcwidth in c:\\users\\cscar\\anaconda3\\envs\\sam_geo\\lib\\site-packages (from prompt-toolkit<3.1.0,>=3.0.41->ipython>=6.1.0->ipywidgets->leafmap->segment-geospatial) (0.2.13)\n",
      "Requirement already satisfied: executing>=1.2.0 in c:\\users\\cscar\\anaconda3\\envs\\sam_geo\\lib\\site-packages (from stack-data->ipython>=6.1.0->ipywidgets->leafmap->segment-geospatial) (2.0.1)\n",
      "Requirement already satisfied: asttokens>=2.1.0 in c:\\users\\cscar\\anaconda3\\envs\\sam_geo\\lib\\site-packages (from stack-data->ipython>=6.1.0->ipywidgets->leafmap->segment-geospatial) (2.4.1)\n",
      "Requirement already satisfied: pure-eval in c:\\users\\cscar\\anaconda3\\envs\\sam_geo\\lib\\site-packages (from stack-data->ipython>=6.1.0->ipywidgets->leafmap->segment-geospatial) (0.2.2)\n",
      "Note: you may need to restart the kernel to use updated packages.\n"
     ]
    }
   ],
   "source": [
    "# %pip install segment-geospatial"
   ]
  },
  {
   "cell_type": "code",
   "execution_count": 2,
   "id": "53ffac71-566b-4f6b-9e79-5123a40d8b1c",
   "metadata": {},
   "outputs": [
    {
     "name": "stdout",
     "output_type": "stream",
     "text": [
      "Collecting xarray\n",
      "  Downloading xarray-2024.3.0-py3-none-any.whl.metadata (11 kB)\n",
      "Requirement already satisfied: numpy>=1.23 in c:\\users\\cscar\\anaconda3\\envs\\sam_geo\\lib\\site-packages (from xarray) (1.26.4)\n",
      "Requirement already satisfied: packaging>=22 in c:\\users\\cscar\\anaconda3\\envs\\sam_geo\\lib\\site-packages (from xarray) (24.0)\n",
      "Requirement already satisfied: pandas>=1.5 in c:\\users\\cscar\\anaconda3\\envs\\sam_geo\\lib\\site-packages (from xarray) (2.2.1)\n",
      "Requirement already satisfied: python-dateutil>=2.8.2 in c:\\users\\cscar\\anaconda3\\envs\\sam_geo\\lib\\site-packages (from pandas>=1.5->xarray) (2.9.0)\n",
      "Requirement already satisfied: pytz>=2020.1 in c:\\users\\cscar\\anaconda3\\envs\\sam_geo\\lib\\site-packages (from pandas>=1.5->xarray) (2024.1)\n",
      "Requirement already satisfied: tzdata>=2022.7 in c:\\users\\cscar\\anaconda3\\envs\\sam_geo\\lib\\site-packages (from pandas>=1.5->xarray) (2024.1)\n",
      "Requirement already satisfied: six>=1.5 in c:\\users\\cscar\\anaconda3\\envs\\sam_geo\\lib\\site-packages (from python-dateutil>=2.8.2->pandas>=1.5->xarray) (1.16.0)\n",
      "Downloading xarray-2024.3.0-py3-none-any.whl (1.1 MB)\n",
      "   ---------------------------------------- 0.0/1.1 MB ? eta -:--:--\n",
      "   ---- ----------------------------------- 0.1/1.1 MB 2.4 MB/s eta 0:00:01\n",
      "   ----------- ---------------------------- 0.3/1.1 MB 3.4 MB/s eta 0:00:01\n",
      "   ------------------ --------------------- 0.5/1.1 MB 4.2 MB/s eta 0:00:01\n",
      "   ---------------------------- ----------- 0.8/1.1 MB 4.7 MB/s eta 0:00:01\n",
      "   ---------------------------------------  1.1/1.1 MB 5.1 MB/s eta 0:00:01\n",
      "   ---------------------------------------- 1.1/1.1 MB 4.8 MB/s eta 0:00:00\n",
      "Installing collected packages: xarray\n",
      "Successfully installed xarray-2024.3.0\n",
      "Note: you may need to restart the kernel to use updated packages.\n"
     ]
    }
   ],
   "source": [
    "# %pip install xarray"
   ]
  },
  {
   "cell_type": "code",
   "execution_count": 3,
   "id": "f06b5117",
   "metadata": {},
   "outputs": [
    {
     "name": "stdout",
     "output_type": "stream",
     "text": [
      "Looking in links: https://download.pytorch.org/whl/torch_stable.html\n",
      "Requirement already satisfied: torch in c:\\users\\cscar\\anaconda3\\envs\\sam_geo\\lib\\site-packages (2.2.0)\n",
      "Requirement already satisfied: torchvision in c:\\users\\cscar\\anaconda3\\envs\\sam_geo\\lib\\site-packages (0.15.2a0)\n",
      "Collecting torchaudio\n",
      "  Using cached https://download.pytorch.org/whl/cu121/torchaudio-2.2.2%2Bcu121-cp311-cp311-win_amd64.whl (4.1 MB)\n",
      "Requirement already satisfied: filelock in c:\\users\\cscar\\anaconda3\\envs\\sam_geo\\lib\\site-packages (from torch) (3.13.3)\n",
      "Requirement already satisfied: typing-extensions>=4.8.0 in c:\\users\\cscar\\anaconda3\\envs\\sam_geo\\lib\\site-packages (from torch) (4.10.0)\n",
      "Requirement already satisfied: sympy in c:\\users\\cscar\\anaconda3\\envs\\sam_geo\\lib\\site-packages (from torch) (1.12)\n",
      "Requirement already satisfied: networkx in c:\\users\\cscar\\anaconda3\\envs\\sam_geo\\lib\\site-packages (from torch) (3.2.1)\n",
      "Requirement already satisfied: jinja2 in c:\\users\\cscar\\anaconda3\\envs\\sam_geo\\lib\\site-packages (from torch) (3.1.3)\n",
      "Requirement already satisfied: fsspec in c:\\users\\cscar\\anaconda3\\envs\\sam_geo\\lib\\site-packages (from torch) (2024.3.1)\n",
      "Requirement already satisfied: numpy in c:\\users\\cscar\\anaconda3\\envs\\sam_geo\\lib\\site-packages (from torchvision) (1.26.4)\n",
      "Requirement already satisfied: requests in c:\\users\\cscar\\anaconda3\\envs\\sam_geo\\lib\\site-packages (from torchvision) (2.31.0)\n",
      "Requirement already satisfied: pillow!=8.3.*,>=5.3.0 in c:\\users\\cscar\\anaconda3\\envs\\sam_geo\\lib\\site-packages (from torchvision) (10.2.0)\n",
      "Collecting torch\n",
      "  Using cached https://download.pytorch.org/whl/cu121/torch-2.2.2%2Bcu121-cp311-cp311-win_amd64.whl (2454.8 MB)\n",
      "Requirement already satisfied: MarkupSafe>=2.0 in c:\\users\\cscar\\anaconda3\\envs\\sam_geo\\lib\\site-packages (from jinja2->torch) (2.1.5)\n",
      "Requirement already satisfied: charset-normalizer<4,>=2 in c:\\users\\cscar\\anaconda3\\envs\\sam_geo\\lib\\site-packages (from requests->torchvision) (3.3.2)\n",
      "Requirement already satisfied: idna<4,>=2.5 in c:\\users\\cscar\\anaconda3\\envs\\sam_geo\\lib\\site-packages (from requests->torchvision) (3.6)\n",
      "Requirement already satisfied: urllib3<3,>=1.21.1 in c:\\users\\cscar\\anaconda3\\envs\\sam_geo\\lib\\site-packages (from requests->torchvision) (2.2.1)\n",
      "Requirement already satisfied: certifi>=2017.4.17 in c:\\users\\cscar\\anaconda3\\envs\\sam_geo\\lib\\site-packages (from requests->torchvision) (2024.2.2)\n",
      "Requirement already satisfied: mpmath>=0.19 in c:\\users\\cscar\\anaconda3\\envs\\sam_geo\\lib\\site-packages (from sympy->torch) (1.3.0)\n",
      "Installing collected packages: torch, torchaudio\n",
      "  Attempting uninstall: torch\n",
      "    Found existing installation: torch 2.2.0\n",
      "    Uninstalling torch-2.2.0:\n",
      "      Successfully uninstalled torch-2.2.0\n",
      "Successfully installed torch-2.2.2+cu121 torchaudio-2.2.2+cu121\n",
      "Note: you may need to restart the kernel to use updated packages.\n"
     ]
    }
   ],
   "source": [
    "# %pip install torch torchvision torchaudio -f https://download.pytorch.org/whl/torch_stable.html"
   ]
  },
  {
   "cell_type": "code",
   "execution_count": 1,
   "id": "f7fec7b7-5531-420a-adae-5547c8469cdc",
   "metadata": {},
   "outputs": [],
   "source": [
    "import os\n",
    "import leafmap\n",
    "from samgeo import SamGeo, show_image, download_file, overlay_images, tms_to_geotiff, split_raster, merge_rasters, raster_to_vector\n",
    "from samgeo.text_sam import LangSAM\n",
    "import xarray\n",
    "import torch"
   ]
  },
  {
   "cell_type": "markdown",
   "id": "7c1aa38f-2227-4639-9a44-4140445a7fcd",
   "metadata": {},
   "source": [
    "# Plotting the Satellite imagery"
   ]
  },
  {
   "cell_type": "code",
   "execution_count": 3,
   "id": "88aa7f3f-9f3d-4eb4-aa71-91de5921aae7",
   "metadata": {},
   "outputs": [],
   "source": [
    "image = \"C:/Users/cscar/Documents/EMC/Projects/Sunnybrooke/Data/Rectified/Tifs/Sunnybrook_2018.tif\""
   ]
  },
  {
   "cell_type": "code",
   "execution_count": 4,
   "id": "e3bc8152-bdc7-430e-80d8-08b2aa80b295",
   "metadata": {
    "scrolled": true
   },
   "outputs": [
    {
     "data": {
      "application/vnd.jupyter.widget-view+json": {
       "model_id": "6ddf05d069de4c14a6bcdcc139803b0a",
       "version_major": 2,
       "version_minor": 0
      },
      "text/plain": [
       "Map(center=[43.722069426835596, -79.37448883804542], controls=(ZoomControl(options=['position', 'zoom_in_text'…"
      ]
     },
     "execution_count": 4,
     "metadata": {},
     "output_type": "execute_result"
    }
   ],
   "source": [
    "m = leafmap.Map(center=[43.722069426835596, -79.37448883804542], zoom=18, height=\"1000px\")\n",
    "m.add_basemap(\"SATELLITE\")\n",
    "m.layers[-1].visible = False\n",
    "m.add_raster(image, layer_name=\"Image\")\n",
    "m "
   ]
  },
  {
   "cell_type": "code",
   "execution_count": 5,
   "id": "720efe09-7878-4289-a9bb-f7f96e43101f",
   "metadata": {},
   "outputs": [],
   "source": [
    "# if m.user_roi_bounds() is not None:\n",
    "#     bbox = m.user_roi_bounds()\n",
    "# else:\n",
    "#     bbox = [-122.2659, 37.8682, -122.2521, 37.8741]"
   ]
  },
  {
   "cell_type": "markdown",
   "id": "96bf3718-899f-489a-abd8-540367eb8dfc",
   "metadata": {},
   "source": [
    "## Initialize SAM class\n",
    "\n",
    "Specify the file path to the model checkpoint. If it is not specified, the model will to downloaded to the working directory."
   ]
  },
  {
   "cell_type": "code",
   "execution_count": 5,
   "id": "15a47d14-56be-4499-8390-c52822c3514f",
   "metadata": {},
   "outputs": [],
   "source": [
    "# Define the input and output directories\n",
    "tiles_dir = \"C:/Users/cscar/Sunnybrook/data/2021/Tiles/\"  # Directory containing the image tiles\n",
    "masks_dir = \"C:/Users/cscar/Sunnybrook/data/2021/Masks/\"   # Directory to save the masks\n",
    "results_dir = \"C:/Users/cscar/Sunnybrook/Results/2021/\"  # Directory to save the results"
   ]
  },
  {
   "cell_type": "code",
   "execution_count": 6,
   "id": "7cb66ec2-b63c-44ee-b7a4-f01f84db062b",
   "metadata": {},
   "outputs": [],
   "source": [
    "checkpoint = os.path.join(results_dir, 'sam_vit_h_4b8939.pth')"
   ]
  },
  {
   "cell_type": "code",
   "execution_count": 7,
   "id": "b74f399a",
   "metadata": {},
   "outputs": [],
   "source": [
    "sam = SamGeo(\n",
    "    model_type=\"vit_h\",\n",
    "    automatic = False,\n",
    "    sam_kwargs=None,\n",
    "    checkpoint=checkpoint,\n",
    "    device = \"cuda\"\n",
    ")"
   ]
  },
  {
   "cell_type": "code",
   "execution_count": 8,
   "id": "b11f1c00",
   "metadata": {},
   "outputs": [],
   "source": [
    "sam.set_image(image)"
   ]
  },
  {
   "cell_type": "code",
   "execution_count": 9,
   "id": "030f9a5f",
   "metadata": {},
   "outputs": [
    {
     "data": {
      "application/vnd.jupyter.widget-view+json": {
       "model_id": "5874129b874f4b4c883849e6a3a711d5",
       "version_major": 2,
       "version_minor": 0
      },
      "text/plain": [
       "Map(center=[20, 0], controls=(ZoomControl(options=['position', 'zoom_in_text', 'zoom_in_title', 'zoom_out_text…"
      ]
     },
     "execution_count": 9,
     "metadata": {},
     "output_type": "execute_result"
    }
   ],
   "source": [
    "m = sam.show_map()\n",
    "m"
   ]
  },
  {
   "cell_type": "code",
   "execution_count": null,
   "id": "4c9f1b91",
   "metadata": {},
   "outputs": [],
   "source": []
  },
  {
   "cell_type": "code",
   "execution_count": 31,
   "id": "a64b077a",
   "metadata": {},
   "outputs": [],
   "source": [
    "split_raster(image, out_dir=out_dir, tile_size=(1000, 1000), overlap=0)"
   ]
  },
  {
   "cell_type": "code",
   "execution_count": 10,
   "id": "9fcb134b",
   "metadata": {},
   "outputs": [],
   "source": [
    "# List all image tiles\n",
    "tile_files = [f for f in os.listdir(tiles_dir) if os.path.isfile(os.path.join(tiles_dir, f))]"
   ]
  },
  {
   "cell_type": "code",
   "execution_count": 13,
   "id": "d31d6ad2",
   "metadata": {},
   "outputs": [
    {
     "name": "stdout",
     "output_type": "stream",
     "text": [
      "Processed C:/Users/cscar/Sunnybrook/Results/tile_0_0.tif and saved mask to C:/Users/cscar/Sunnybrook/Masks/mask_tile_0_0.tif\n",
      "Processed C:/Users/cscar/Sunnybrook/Results/tile_0_1.tif and saved mask to C:/Users/cscar/Sunnybrook/Masks/mask_tile_0_1.tif\n",
      "Processed C:/Users/cscar/Sunnybrook/Results/tile_0_2.tif and saved mask to C:/Users/cscar/Sunnybrook/Masks/mask_tile_0_2.tif\n",
      "Processed C:/Users/cscar/Sunnybrook/Results/tile_0_3.tif and saved mask to C:/Users/cscar/Sunnybrook/Masks/mask_tile_0_3.tif\n",
      "Processed C:/Users/cscar/Sunnybrook/Results/tile_0_4.tif and saved mask to C:/Users/cscar/Sunnybrook/Masks/mask_tile_0_4.tif\n",
      "Processed C:/Users/cscar/Sunnybrook/Results/tile_0_5.tif and saved mask to C:/Users/cscar/Sunnybrook/Masks/mask_tile_0_5.tif\n",
      "Processed C:/Users/cscar/Sunnybrook/Results/tile_0_6.tif and saved mask to C:/Users/cscar/Sunnybrook/Masks/mask_tile_0_6.tif\n",
      "Processed C:/Users/cscar/Sunnybrook/Results/tile_0_7.tif and saved mask to C:/Users/cscar/Sunnybrook/Masks/mask_tile_0_7.tif\n",
      "Processed C:/Users/cscar/Sunnybrook/Results/tile_10_0.tif and saved mask to C:/Users/cscar/Sunnybrook/Masks/mask_tile_10_0.tif\n",
      "Processed C:/Users/cscar/Sunnybrook/Results/tile_10_1.tif and saved mask to C:/Users/cscar/Sunnybrook/Masks/mask_tile_10_1.tif\n",
      "Processed C:/Users/cscar/Sunnybrook/Results/tile_10_2.tif and saved mask to C:/Users/cscar/Sunnybrook/Masks/mask_tile_10_2.tif\n",
      "Processed C:/Users/cscar/Sunnybrook/Results/tile_10_3.tif and saved mask to C:/Users/cscar/Sunnybrook/Masks/mask_tile_10_3.tif\n",
      "Processed C:/Users/cscar/Sunnybrook/Results/tile_10_4.tif and saved mask to C:/Users/cscar/Sunnybrook/Masks/mask_tile_10_4.tif\n",
      "Processed C:/Users/cscar/Sunnybrook/Results/tile_10_5.tif and saved mask to C:/Users/cscar/Sunnybrook/Masks/mask_tile_10_5.tif\n",
      "Processed C:/Users/cscar/Sunnybrook/Results/tile_10_6.tif and saved mask to C:/Users/cscar/Sunnybrook/Masks/mask_tile_10_6.tif\n",
      "Processed C:/Users/cscar/Sunnybrook/Results/tile_10_7.tif and saved mask to C:/Users/cscar/Sunnybrook/Masks/mask_tile_10_7.tif\n",
      "Processed C:/Users/cscar/Sunnybrook/Results/tile_11_0.tif and saved mask to C:/Users/cscar/Sunnybrook/Masks/mask_tile_11_0.tif\n",
      "Processed C:/Users/cscar/Sunnybrook/Results/tile_11_1.tif and saved mask to C:/Users/cscar/Sunnybrook/Masks/mask_tile_11_1.tif\n",
      "Processed C:/Users/cscar/Sunnybrook/Results/tile_11_2.tif and saved mask to C:/Users/cscar/Sunnybrook/Masks/mask_tile_11_2.tif\n",
      "Processed C:/Users/cscar/Sunnybrook/Results/tile_11_3.tif and saved mask to C:/Users/cscar/Sunnybrook/Masks/mask_tile_11_3.tif\n",
      "Processed C:/Users/cscar/Sunnybrook/Results/tile_11_4.tif and saved mask to C:/Users/cscar/Sunnybrook/Masks/mask_tile_11_4.tif\n",
      "Processed C:/Users/cscar/Sunnybrook/Results/tile_11_5.tif and saved mask to C:/Users/cscar/Sunnybrook/Masks/mask_tile_11_5.tif\n",
      "Processed C:/Users/cscar/Sunnybrook/Results/tile_11_6.tif and saved mask to C:/Users/cscar/Sunnybrook/Masks/mask_tile_11_6.tif\n",
      "Processed C:/Users/cscar/Sunnybrook/Results/tile_11_7.tif and saved mask to C:/Users/cscar/Sunnybrook/Masks/mask_tile_11_7.tif\n",
      "Processed C:/Users/cscar/Sunnybrook/Results/tile_12_0.tif and saved mask to C:/Users/cscar/Sunnybrook/Masks/mask_tile_12_0.tif\n",
      "Processed C:/Users/cscar/Sunnybrook/Results/tile_12_1.tif and saved mask to C:/Users/cscar/Sunnybrook/Masks/mask_tile_12_1.tif\n",
      "Processed C:/Users/cscar/Sunnybrook/Results/tile_12_2.tif and saved mask to C:/Users/cscar/Sunnybrook/Masks/mask_tile_12_2.tif\n",
      "Processed C:/Users/cscar/Sunnybrook/Results/tile_12_3.tif and saved mask to C:/Users/cscar/Sunnybrook/Masks/mask_tile_12_3.tif\n",
      "Processed C:/Users/cscar/Sunnybrook/Results/tile_12_4.tif and saved mask to C:/Users/cscar/Sunnybrook/Masks/mask_tile_12_4.tif\n",
      "Processed C:/Users/cscar/Sunnybrook/Results/tile_12_5.tif and saved mask to C:/Users/cscar/Sunnybrook/Masks/mask_tile_12_5.tif\n",
      "Processed C:/Users/cscar/Sunnybrook/Results/tile_12_6.tif and saved mask to C:/Users/cscar/Sunnybrook/Masks/mask_tile_12_6.tif\n",
      "Processed C:/Users/cscar/Sunnybrook/Results/tile_12_7.tif and saved mask to C:/Users/cscar/Sunnybrook/Masks/mask_tile_12_7.tif\n",
      "Processed C:/Users/cscar/Sunnybrook/Results/tile_13_0.tif and saved mask to C:/Users/cscar/Sunnybrook/Masks/mask_tile_13_0.tif\n",
      "Processed C:/Users/cscar/Sunnybrook/Results/tile_13_1.tif and saved mask to C:/Users/cscar/Sunnybrook/Masks/mask_tile_13_1.tif\n",
      "Processed C:/Users/cscar/Sunnybrook/Results/tile_13_2.tif and saved mask to C:/Users/cscar/Sunnybrook/Masks/mask_tile_13_2.tif\n",
      "Processed C:/Users/cscar/Sunnybrook/Results/tile_13_3.tif and saved mask to C:/Users/cscar/Sunnybrook/Masks/mask_tile_13_3.tif\n",
      "Processed C:/Users/cscar/Sunnybrook/Results/tile_13_4.tif and saved mask to C:/Users/cscar/Sunnybrook/Masks/mask_tile_13_4.tif\n",
      "Processed C:/Users/cscar/Sunnybrook/Results/tile_13_5.tif and saved mask to C:/Users/cscar/Sunnybrook/Masks/mask_tile_13_5.tif\n",
      "Processed C:/Users/cscar/Sunnybrook/Results/tile_13_6.tif and saved mask to C:/Users/cscar/Sunnybrook/Masks/mask_tile_13_6.tif\n",
      "Processed C:/Users/cscar/Sunnybrook/Results/tile_13_7.tif and saved mask to C:/Users/cscar/Sunnybrook/Masks/mask_tile_13_7.tif\n",
      "Processed C:/Users/cscar/Sunnybrook/Results/tile_1_0.tif and saved mask to C:/Users/cscar/Sunnybrook/Masks/mask_tile_1_0.tif\n",
      "Processed C:/Users/cscar/Sunnybrook/Results/tile_1_1.tif and saved mask to C:/Users/cscar/Sunnybrook/Masks/mask_tile_1_1.tif\n",
      "Processed C:/Users/cscar/Sunnybrook/Results/tile_1_2.tif and saved mask to C:/Users/cscar/Sunnybrook/Masks/mask_tile_1_2.tif\n",
      "Processed C:/Users/cscar/Sunnybrook/Results/tile_1_3.tif and saved mask to C:/Users/cscar/Sunnybrook/Masks/mask_tile_1_3.tif\n",
      "Processed C:/Users/cscar/Sunnybrook/Results/tile_1_4.tif and saved mask to C:/Users/cscar/Sunnybrook/Masks/mask_tile_1_4.tif\n",
      "Processed C:/Users/cscar/Sunnybrook/Results/tile_1_5.tif and saved mask to C:/Users/cscar/Sunnybrook/Masks/mask_tile_1_5.tif\n",
      "Processed C:/Users/cscar/Sunnybrook/Results/tile_1_6.tif and saved mask to C:/Users/cscar/Sunnybrook/Masks/mask_tile_1_6.tif\n",
      "Processed C:/Users/cscar/Sunnybrook/Results/tile_1_7.tif and saved mask to C:/Users/cscar/Sunnybrook/Masks/mask_tile_1_7.tif\n",
      "Processed C:/Users/cscar/Sunnybrook/Results/tile_2_0.tif and saved mask to C:/Users/cscar/Sunnybrook/Masks/mask_tile_2_0.tif\n",
      "Processed C:/Users/cscar/Sunnybrook/Results/tile_2_1.tif and saved mask to C:/Users/cscar/Sunnybrook/Masks/mask_tile_2_1.tif\n",
      "Processed C:/Users/cscar/Sunnybrook/Results/tile_2_2.tif and saved mask to C:/Users/cscar/Sunnybrook/Masks/mask_tile_2_2.tif\n",
      "Processed C:/Users/cscar/Sunnybrook/Results/tile_2_3.tif and saved mask to C:/Users/cscar/Sunnybrook/Masks/mask_tile_2_3.tif\n",
      "Processed C:/Users/cscar/Sunnybrook/Results/tile_2_4.tif and saved mask to C:/Users/cscar/Sunnybrook/Masks/mask_tile_2_4.tif\n",
      "Processed C:/Users/cscar/Sunnybrook/Results/tile_2_5.tif and saved mask to C:/Users/cscar/Sunnybrook/Masks/mask_tile_2_5.tif\n",
      "Processed C:/Users/cscar/Sunnybrook/Results/tile_2_6.tif and saved mask to C:/Users/cscar/Sunnybrook/Masks/mask_tile_2_6.tif\n",
      "Processed C:/Users/cscar/Sunnybrook/Results/tile_2_7.tif and saved mask to C:/Users/cscar/Sunnybrook/Masks/mask_tile_2_7.tif\n",
      "Processed C:/Users/cscar/Sunnybrook/Results/tile_3_0.tif and saved mask to C:/Users/cscar/Sunnybrook/Masks/mask_tile_3_0.tif\n",
      "Processed C:/Users/cscar/Sunnybrook/Results/tile_3_1.tif and saved mask to C:/Users/cscar/Sunnybrook/Masks/mask_tile_3_1.tif\n",
      "Processed C:/Users/cscar/Sunnybrook/Results/tile_3_2.tif and saved mask to C:/Users/cscar/Sunnybrook/Masks/mask_tile_3_2.tif\n",
      "Processed C:/Users/cscar/Sunnybrook/Results/tile_3_3.tif and saved mask to C:/Users/cscar/Sunnybrook/Masks/mask_tile_3_3.tif\n",
      "Processed C:/Users/cscar/Sunnybrook/Results/tile_3_4.tif and saved mask to C:/Users/cscar/Sunnybrook/Masks/mask_tile_3_4.tif\n",
      "Processed C:/Users/cscar/Sunnybrook/Results/tile_3_5.tif and saved mask to C:/Users/cscar/Sunnybrook/Masks/mask_tile_3_5.tif\n",
      "Processed C:/Users/cscar/Sunnybrook/Results/tile_3_6.tif and saved mask to C:/Users/cscar/Sunnybrook/Masks/mask_tile_3_6.tif\n",
      "Processed C:/Users/cscar/Sunnybrook/Results/tile_3_7.tif and saved mask to C:/Users/cscar/Sunnybrook/Masks/mask_tile_3_7.tif\n",
      "Processed C:/Users/cscar/Sunnybrook/Results/tile_4_0.tif and saved mask to C:/Users/cscar/Sunnybrook/Masks/mask_tile_4_0.tif\n",
      "Processed C:/Users/cscar/Sunnybrook/Results/tile_4_1.tif and saved mask to C:/Users/cscar/Sunnybrook/Masks/mask_tile_4_1.tif\n",
      "Processed C:/Users/cscar/Sunnybrook/Results/tile_4_2.tif and saved mask to C:/Users/cscar/Sunnybrook/Masks/mask_tile_4_2.tif\n",
      "Processed C:/Users/cscar/Sunnybrook/Results/tile_4_3.tif and saved mask to C:/Users/cscar/Sunnybrook/Masks/mask_tile_4_3.tif\n",
      "Processed C:/Users/cscar/Sunnybrook/Results/tile_4_4.tif and saved mask to C:/Users/cscar/Sunnybrook/Masks/mask_tile_4_4.tif\n",
      "Processed C:/Users/cscar/Sunnybrook/Results/tile_4_5.tif and saved mask to C:/Users/cscar/Sunnybrook/Masks/mask_tile_4_5.tif\n",
      "Processed C:/Users/cscar/Sunnybrook/Results/tile_4_6.tif and saved mask to C:/Users/cscar/Sunnybrook/Masks/mask_tile_4_6.tif\n",
      "Processed C:/Users/cscar/Sunnybrook/Results/tile_4_7.tif and saved mask to C:/Users/cscar/Sunnybrook/Masks/mask_tile_4_7.tif\n",
      "Processed C:/Users/cscar/Sunnybrook/Results/tile_5_0.tif and saved mask to C:/Users/cscar/Sunnybrook/Masks/mask_tile_5_0.tif\n",
      "Processed C:/Users/cscar/Sunnybrook/Results/tile_5_1.tif and saved mask to C:/Users/cscar/Sunnybrook/Masks/mask_tile_5_1.tif\n",
      "Processed C:/Users/cscar/Sunnybrook/Results/tile_5_2.tif and saved mask to C:/Users/cscar/Sunnybrook/Masks/mask_tile_5_2.tif\n",
      "Processed C:/Users/cscar/Sunnybrook/Results/tile_5_3.tif and saved mask to C:/Users/cscar/Sunnybrook/Masks/mask_tile_5_3.tif\n",
      "Processed C:/Users/cscar/Sunnybrook/Results/tile_5_4.tif and saved mask to C:/Users/cscar/Sunnybrook/Masks/mask_tile_5_4.tif\n",
      "Processed C:/Users/cscar/Sunnybrook/Results/tile_5_5.tif and saved mask to C:/Users/cscar/Sunnybrook/Masks/mask_tile_5_5.tif\n",
      "Processed C:/Users/cscar/Sunnybrook/Results/tile_5_6.tif and saved mask to C:/Users/cscar/Sunnybrook/Masks/mask_tile_5_6.tif\n",
      "Processed C:/Users/cscar/Sunnybrook/Results/tile_5_7.tif and saved mask to C:/Users/cscar/Sunnybrook/Masks/mask_tile_5_7.tif\n",
      "Processed C:/Users/cscar/Sunnybrook/Results/tile_6_0.tif and saved mask to C:/Users/cscar/Sunnybrook/Masks/mask_tile_6_0.tif\n",
      "Processed C:/Users/cscar/Sunnybrook/Results/tile_6_1.tif and saved mask to C:/Users/cscar/Sunnybrook/Masks/mask_tile_6_1.tif\n",
      "Processed C:/Users/cscar/Sunnybrook/Results/tile_6_2.tif and saved mask to C:/Users/cscar/Sunnybrook/Masks/mask_tile_6_2.tif\n",
      "Processed C:/Users/cscar/Sunnybrook/Results/tile_6_3.tif and saved mask to C:/Users/cscar/Sunnybrook/Masks/mask_tile_6_3.tif\n",
      "Processed C:/Users/cscar/Sunnybrook/Results/tile_6_4.tif and saved mask to C:/Users/cscar/Sunnybrook/Masks/mask_tile_6_4.tif\n",
      "Processed C:/Users/cscar/Sunnybrook/Results/tile_6_5.tif and saved mask to C:/Users/cscar/Sunnybrook/Masks/mask_tile_6_5.tif\n",
      "Processed C:/Users/cscar/Sunnybrook/Results/tile_6_6.tif and saved mask to C:/Users/cscar/Sunnybrook/Masks/mask_tile_6_6.tif\n",
      "Processed C:/Users/cscar/Sunnybrook/Results/tile_6_7.tif and saved mask to C:/Users/cscar/Sunnybrook/Masks/mask_tile_6_7.tif\n",
      "Processed C:/Users/cscar/Sunnybrook/Results/tile_7_0.tif and saved mask to C:/Users/cscar/Sunnybrook/Masks/mask_tile_7_0.tif\n",
      "Processed C:/Users/cscar/Sunnybrook/Results/tile_7_1.tif and saved mask to C:/Users/cscar/Sunnybrook/Masks/mask_tile_7_1.tif\n",
      "Processed C:/Users/cscar/Sunnybrook/Results/tile_7_2.tif and saved mask to C:/Users/cscar/Sunnybrook/Masks/mask_tile_7_2.tif\n",
      "Processed C:/Users/cscar/Sunnybrook/Results/tile_7_3.tif and saved mask to C:/Users/cscar/Sunnybrook/Masks/mask_tile_7_3.tif\n",
      "Processed C:/Users/cscar/Sunnybrook/Results/tile_7_4.tif and saved mask to C:/Users/cscar/Sunnybrook/Masks/mask_tile_7_4.tif\n",
      "Processed C:/Users/cscar/Sunnybrook/Results/tile_7_5.tif and saved mask to C:/Users/cscar/Sunnybrook/Masks/mask_tile_7_5.tif\n",
      "Processed C:/Users/cscar/Sunnybrook/Results/tile_7_6.tif and saved mask to C:/Users/cscar/Sunnybrook/Masks/mask_tile_7_6.tif\n",
      "Processed C:/Users/cscar/Sunnybrook/Results/tile_7_7.tif and saved mask to C:/Users/cscar/Sunnybrook/Masks/mask_tile_7_7.tif\n",
      "Processed C:/Users/cscar/Sunnybrook/Results/tile_8_0.tif and saved mask to C:/Users/cscar/Sunnybrook/Masks/mask_tile_8_0.tif\n",
      "Processed C:/Users/cscar/Sunnybrook/Results/tile_8_1.tif and saved mask to C:/Users/cscar/Sunnybrook/Masks/mask_tile_8_1.tif\n",
      "Processed C:/Users/cscar/Sunnybrook/Results/tile_8_2.tif and saved mask to C:/Users/cscar/Sunnybrook/Masks/mask_tile_8_2.tif\n",
      "Processed C:/Users/cscar/Sunnybrook/Results/tile_8_3.tif and saved mask to C:/Users/cscar/Sunnybrook/Masks/mask_tile_8_3.tif\n",
      "Processed C:/Users/cscar/Sunnybrook/Results/tile_8_4.tif and saved mask to C:/Users/cscar/Sunnybrook/Masks/mask_tile_8_4.tif\n",
      "Processed C:/Users/cscar/Sunnybrook/Results/tile_8_5.tif and saved mask to C:/Users/cscar/Sunnybrook/Masks/mask_tile_8_5.tif\n",
      "Processed C:/Users/cscar/Sunnybrook/Results/tile_8_6.tif and saved mask to C:/Users/cscar/Sunnybrook/Masks/mask_tile_8_6.tif\n",
      "Processed C:/Users/cscar/Sunnybrook/Results/tile_8_7.tif and saved mask to C:/Users/cscar/Sunnybrook/Masks/mask_tile_8_7.tif\n",
      "Processed C:/Users/cscar/Sunnybrook/Results/tile_9_0.tif and saved mask to C:/Users/cscar/Sunnybrook/Masks/mask_tile_9_0.tif\n",
      "Processed C:/Users/cscar/Sunnybrook/Results/tile_9_1.tif and saved mask to C:/Users/cscar/Sunnybrook/Masks/mask_tile_9_1.tif\n",
      "Processed C:/Users/cscar/Sunnybrook/Results/tile_9_2.tif and saved mask to C:/Users/cscar/Sunnybrook/Masks/mask_tile_9_2.tif\n",
      "Processed C:/Users/cscar/Sunnybrook/Results/tile_9_3.tif and saved mask to C:/Users/cscar/Sunnybrook/Masks/mask_tile_9_3.tif\n",
      "Processed C:/Users/cscar/Sunnybrook/Results/tile_9_4.tif and saved mask to C:/Users/cscar/Sunnybrook/Masks/mask_tile_9_4.tif\n",
      "Processed C:/Users/cscar/Sunnybrook/Results/tile_9_5.tif and saved mask to C:/Users/cscar/Sunnybrook/Masks/mask_tile_9_5.tif\n",
      "Processed C:/Users/cscar/Sunnybrook/Results/tile_9_6.tif and saved mask to C:/Users/cscar/Sunnybrook/Masks/mask_tile_9_6.tif\n",
      "Processed C:/Users/cscar/Sunnybrook/Results/tile_9_7.tif and saved mask to C:/Users/cscar/Sunnybrook/Masks/mask_tile_9_7.tif\n"
     ]
    }
   ],
   "source": [
    "# Process each tile\n",
    "for tile_file in tile_files:\n",
    "    tile_path = os.path.join(tiles_dir, tile_file)\n",
    "    output_path = os.path.join(masks_dir, f\"mask_{tile_file}\")\n",
    "    \n",
    "    # Assuming the method to generate masks is called 'generate'\n",
    "    # You will need to adjust this according to the actual method's parameters and functionality\n",
    "    sam.generate(source=tile_path, output=output_path)\n",
    "    \n",
    "    print(f\"Processed {tile_path} and saved mask to {output_path}\")"
   ]
  },
  {
   "cell_type": "code",
   "execution_count": 26,
   "id": "850839b1",
   "metadata": {},
   "outputs": [],
   "source": [
    "output = \"C:/Users/cscar/Sunnybrook/Data/Sunnybrook_2018_mask.tif\"\n"
   ]
  },
  {
   "cell_type": "code",
   "execution_count": 31,
   "id": "74549634",
   "metadata": {},
   "outputs": [],
   "source": [
    "merge_rasters(masks_dir, output, input_pattern='*.tif', output_format='GTiff', output_nodata=None, output_options=['COMPRESS=DEFLATE'])"
   ]
  },
  {
   "cell_type": "code",
   "execution_count": 32,
   "id": "9814f76f-9419-4216-bb5c-286847df1693",
   "metadata": {},
   "outputs": [],
   "source": [
    "sam.raster_to_vector(image = output, output= output_vector)"
   ]
  },
  {
   "cell_type": "code",
   "execution_count": 35,
   "id": "3c71147e-edbc-4152-a05b-1d92cd2e78ab",
   "metadata": {},
   "outputs": [
    {
     "data": {
      "application/vnd.jupyter.widget-view+json": {
       "model_id": "2e085ea7467e40e0846555bbec8f0ef8",
       "version_major": 2,
       "version_minor": 0
      },
      "text/plain": [
       "GroundingDINO_SwinB.cfg.py:   0%|          | 0.00/1.01k [00:00<?, ?B/s]"
      ]
     },
     "metadata": {},
     "output_type": "display_data"
    },
    {
     "name": "stdout",
     "output_type": "stream",
     "text": [
      "final text_encoder_type: bert-base-uncased\n"
     ]
    },
    {
     "data": {
      "application/vnd.jupyter.widget-view+json": {
       "model_id": "2220f24cfd93426ea990b9139ef17044",
       "version_major": 2,
       "version_minor": 0
      },
      "text/plain": [
       "tokenizer_config.json:   0%|          | 0.00/48.0 [00:00<?, ?B/s]"
      ]
     },
     "metadata": {},
     "output_type": "display_data"
    },
    {
     "data": {
      "application/vnd.jupyter.widget-view+json": {
       "model_id": "4ca7dc73e2b14338bb9d2f2c890663cd",
       "version_major": 2,
       "version_minor": 0
      },
      "text/plain": [
       "config.json:   0%|          | 0.00/570 [00:00<?, ?B/s]"
      ]
     },
     "metadata": {},
     "output_type": "display_data"
    },
    {
     "data": {
      "application/vnd.jupyter.widget-view+json": {
       "model_id": "3b657ac839654458ab089ada5535bd71",
       "version_major": 2,
       "version_minor": 0
      },
      "text/plain": [
       "vocab.txt:   0%|          | 0.00/232k [00:00<?, ?B/s]"
      ]
     },
     "metadata": {},
     "output_type": "display_data"
    },
    {
     "data": {
      "application/vnd.jupyter.widget-view+json": {
       "model_id": "bd899c93adaf42469966b7990dd3a337",
       "version_major": 2,
       "version_minor": 0
      },
      "text/plain": [
       "tokenizer.json:   0%|          | 0.00/466k [00:00<?, ?B/s]"
      ]
     },
     "metadata": {},
     "output_type": "display_data"
    },
    {
     "data": {
      "application/vnd.jupyter.widget-view+json": {
       "model_id": "64f486a6a51d4be2a7670bfbf748c3d7",
       "version_major": 2,
       "version_minor": 0
      },
      "text/plain": [
       "model.safetensors:   0%|          | 0.00/440M [00:00<?, ?B/s]"
      ]
     },
     "metadata": {},
     "output_type": "display_data"
    },
    {
     "data": {
      "application/vnd.jupyter.widget-view+json": {
       "model_id": "dfdc634adabd441d804d307b9eb07f4c",
       "version_major": 2,
       "version_minor": 0
      },
      "text/plain": [
       "groundingdino_swinb_cogcoor.pth:   0%|          | 0.00/938M [00:00<?, ?B/s]"
      ]
     },
     "metadata": {},
     "output_type": "display_data"
    }
   ],
   "source": [
    "sam = LangSAM()"
   ]
  },
  {
   "cell_type": "code",
   "execution_count": 38,
   "id": "2812dfcd",
   "metadata": {},
   "outputs": [],
   "source": [
    "text_prompt = \"tree\""
   ]
  },
  {
   "cell_type": "code",
   "execution_count": 36,
   "id": "c7163b68",
   "metadata": {},
   "outputs": [],
   "source": [
    "tiles_dir = \"C:/Users/cscar/Sunnybrook/Results/Tiles/\"\n",
    "out_dir = \"C:/Users/cscar/Sunnybrook/Results/Trees\"  # Directory to save the results"
   ]
  },
  {
   "cell_type": "code",
   "execution_count": 46,
   "id": "9d70626d",
   "metadata": {},
   "outputs": [
    {
     "name": "stdout",
     "output_type": "stream",
     "text": [
      "Processing image 001 of 112: C:/Users/cscar/Sunnybrook/Results/Tiles\\tile_0_0.tif...\n",
      "No objects found in the image.\n",
      "Processing image 002 of 112: C:/Users/cscar/Sunnybrook/Results/Tiles\\tile_0_1.tif...\n",
      "No objects found in the image.\n",
      "Processing image 003 of 112: C:/Users/cscar/Sunnybrook/Results/Tiles\\tile_0_2.tif...\n",
      "No objects found in the image.\n",
      "Processing image 004 of 112: C:/Users/cscar/Sunnybrook/Results/Tiles\\tile_0_3.tif...\n",
      "No objects found in the image.\n",
      "Processing image 005 of 112: C:/Users/cscar/Sunnybrook/Results/Tiles\\tile_0_4.tif...\n",
      "No objects found in the image.\n",
      "Processing image 006 of 112: C:/Users/cscar/Sunnybrook/Results/Tiles\\tile_0_5.tif...\n",
      "No objects found in the image.\n",
      "Processing image 007 of 112: C:/Users/cscar/Sunnybrook/Results/Tiles\\tile_0_6.tif...\n",
      "No objects found in the image.\n",
      "Processing image 008 of 112: C:/Users/cscar/Sunnybrook/Results/Tiles\\tile_0_7.tif...\n",
      "No objects found in the image.\n",
      "Processing image 009 of 112: C:/Users/cscar/Sunnybrook/Results/Tiles\\tile_10_0.tif...\n",
      "Processing image 010 of 112: C:/Users/cscar/Sunnybrook/Results/Tiles\\tile_10_1.tif...\n",
      "No objects found in the image.\n",
      "Processing image 011 of 112: C:/Users/cscar/Sunnybrook/Results/Tiles\\tile_10_2.tif...\n",
      "No objects found in the image.\n",
      "Processing image 012 of 112: C:/Users/cscar/Sunnybrook/Results/Tiles\\tile_10_3.tif...\n",
      "No objects found in the image.\n",
      "Processing image 013 of 112: C:/Users/cscar/Sunnybrook/Results/Tiles\\tile_10_4.tif...\n",
      "No objects found in the image.\n",
      "Processing image 014 of 112: C:/Users/cscar/Sunnybrook/Results/Tiles\\tile_10_5.tif...\n",
      "No objects found in the image.\n",
      "Processing image 015 of 112: C:/Users/cscar/Sunnybrook/Results/Tiles\\tile_10_6.tif...\n",
      "Processing image 016 of 112: C:/Users/cscar/Sunnybrook/Results/Tiles\\tile_10_7.tif...\n",
      "No objects found in the image.\n",
      "Processing image 017 of 112: C:/Users/cscar/Sunnybrook/Results/Tiles\\tile_11_0.tif...\n",
      "Processing image 018 of 112: C:/Users/cscar/Sunnybrook/Results/Tiles\\tile_11_1.tif...\n",
      "Processing image 019 of 112: C:/Users/cscar/Sunnybrook/Results/Tiles\\tile_11_2.tif...\n",
      "No objects found in the image.\n",
      "Processing image 020 of 112: C:/Users/cscar/Sunnybrook/Results/Tiles\\tile_11_3.tif...\n",
      "Processing image 021 of 112: C:/Users/cscar/Sunnybrook/Results/Tiles\\tile_11_4.tif...\n",
      "Processing image 022 of 112: C:/Users/cscar/Sunnybrook/Results/Tiles\\tile_11_5.tif...\n",
      "Processing image 023 of 112: C:/Users/cscar/Sunnybrook/Results/Tiles\\tile_11_6.tif...\n",
      "Processing image 024 of 112: C:/Users/cscar/Sunnybrook/Results/Tiles\\tile_11_7.tif...\n",
      "No objects found in the image.\n",
      "Processing image 025 of 112: C:/Users/cscar/Sunnybrook/Results/Tiles\\tile_12_0.tif...\n",
      "No objects found in the image.\n",
      "Processing image 026 of 112: C:/Users/cscar/Sunnybrook/Results/Tiles\\tile_12_1.tif...\n",
      "No objects found in the image.\n",
      "Processing image 027 of 112: C:/Users/cscar/Sunnybrook/Results/Tiles\\tile_12_2.tif...\n",
      "No objects found in the image.\n",
      "Processing image 028 of 112: C:/Users/cscar/Sunnybrook/Results/Tiles\\tile_12_3.tif...\n",
      "No objects found in the image.\n",
      "Processing image 029 of 112: C:/Users/cscar/Sunnybrook/Results/Tiles\\tile_12_4.tif...\n",
      "No objects found in the image.\n",
      "Processing image 030 of 112: C:/Users/cscar/Sunnybrook/Results/Tiles\\tile_12_5.tif...\n",
      "No objects found in the image.\n",
      "Processing image 031 of 112: C:/Users/cscar/Sunnybrook/Results/Tiles\\tile_12_6.tif...\n",
      "No objects found in the image.\n",
      "Processing image 032 of 112: C:/Users/cscar/Sunnybrook/Results/Tiles\\tile_12_7.tif...\n",
      "No objects found in the image.\n",
      "Processing image 033 of 112: C:/Users/cscar/Sunnybrook/Results/Tiles\\tile_13_0.tif...\n",
      "No objects found in the image.\n",
      "Processing image 034 of 112: C:/Users/cscar/Sunnybrook/Results/Tiles\\tile_13_1.tif...\n",
      "No objects found in the image.\n",
      "Processing image 035 of 112: C:/Users/cscar/Sunnybrook/Results/Tiles\\tile_13_2.tif...\n",
      "No objects found in the image.\n",
      "Processing image 036 of 112: C:/Users/cscar/Sunnybrook/Results/Tiles\\tile_13_3.tif...\n",
      "No objects found in the image.\n",
      "Processing image 037 of 112: C:/Users/cscar/Sunnybrook/Results/Tiles\\tile_13_4.tif...\n",
      "No objects found in the image.\n",
      "Processing image 038 of 112: C:/Users/cscar/Sunnybrook/Results/Tiles\\tile_13_5.tif...\n",
      "No objects found in the image.\n",
      "Processing image 039 of 112: C:/Users/cscar/Sunnybrook/Results/Tiles\\tile_13_6.tif...\n",
      "No objects found in the image.\n",
      "Processing image 040 of 112: C:/Users/cscar/Sunnybrook/Results/Tiles\\tile_13_7.tif...\n",
      "No objects found in the image.\n",
      "Processing image 041 of 112: C:/Users/cscar/Sunnybrook/Results/Tiles\\tile_1_0.tif...\n",
      "No objects found in the image.\n",
      "Processing image 042 of 112: C:/Users/cscar/Sunnybrook/Results/Tiles\\tile_1_1.tif...\n",
      "No objects found in the image.\n",
      "Processing image 043 of 112: C:/Users/cscar/Sunnybrook/Results/Tiles\\tile_1_2.tif...\n",
      "No objects found in the image.\n",
      "Processing image 044 of 112: C:/Users/cscar/Sunnybrook/Results/Tiles\\tile_1_3.tif...\n",
      "No objects found in the image.\n",
      "Processing image 045 of 112: C:/Users/cscar/Sunnybrook/Results/Tiles\\tile_1_4.tif...\n",
      "No objects found in the image.\n",
      "Processing image 046 of 112: C:/Users/cscar/Sunnybrook/Results/Tiles\\tile_1_5.tif...\n",
      "No objects found in the image.\n",
      "Processing image 047 of 112: C:/Users/cscar/Sunnybrook/Results/Tiles\\tile_1_6.tif...\n",
      "No objects found in the image.\n",
      "Processing image 048 of 112: C:/Users/cscar/Sunnybrook/Results/Tiles\\tile_1_7.tif...\n",
      "No objects found in the image.\n",
      "Processing image 049 of 112: C:/Users/cscar/Sunnybrook/Results/Tiles\\tile_2_0.tif...\n",
      "No objects found in the image.\n",
      "Processing image 050 of 112: C:/Users/cscar/Sunnybrook/Results/Tiles\\tile_2_1.tif...\n",
      "No objects found in the image.\n",
      "Processing image 051 of 112: C:/Users/cscar/Sunnybrook/Results/Tiles\\tile_2_2.tif...\n",
      "No objects found in the image.\n",
      "Processing image 052 of 112: C:/Users/cscar/Sunnybrook/Results/Tiles\\tile_2_3.tif...\n",
      "No objects found in the image.\n",
      "Processing image 053 of 112: C:/Users/cscar/Sunnybrook/Results/Tiles\\tile_2_4.tif...\n",
      "No objects found in the image.\n",
      "Processing image 054 of 112: C:/Users/cscar/Sunnybrook/Results/Tiles\\tile_2_5.tif...\n",
      "No objects found in the image.\n",
      "Processing image 055 of 112: C:/Users/cscar/Sunnybrook/Results/Tiles\\tile_2_6.tif...\n",
      "No objects found in the image.\n",
      "Processing image 056 of 112: C:/Users/cscar/Sunnybrook/Results/Tiles\\tile_2_7.tif...\n",
      "No objects found in the image.\n",
      "Processing image 057 of 112: C:/Users/cscar/Sunnybrook/Results/Tiles\\tile_3_0.tif...\n",
      "No objects found in the image.\n",
      "Processing image 058 of 112: C:/Users/cscar/Sunnybrook/Results/Tiles\\tile_3_1.tif...\n",
      "No objects found in the image.\n",
      "Processing image 059 of 112: C:/Users/cscar/Sunnybrook/Results/Tiles\\tile_3_2.tif...\n",
      "No objects found in the image.\n",
      "Processing image 060 of 112: C:/Users/cscar/Sunnybrook/Results/Tiles\\tile_3_3.tif...\n",
      "No objects found in the image.\n",
      "Processing image 061 of 112: C:/Users/cscar/Sunnybrook/Results/Tiles\\tile_3_4.tif...\n",
      "No objects found in the image.\n",
      "Processing image 062 of 112: C:/Users/cscar/Sunnybrook/Results/Tiles\\tile_3_5.tif...\n",
      "No objects found in the image.\n",
      "Processing image 063 of 112: C:/Users/cscar/Sunnybrook/Results/Tiles\\tile_3_6.tif...\n",
      "No objects found in the image.\n",
      "Processing image 064 of 112: C:/Users/cscar/Sunnybrook/Results/Tiles\\tile_3_7.tif...\n",
      "Processing image 065 of 112: C:/Users/cscar/Sunnybrook/Results/Tiles\\tile_4_0.tif...\n",
      "No objects found in the image.\n",
      "Processing image 066 of 112: C:/Users/cscar/Sunnybrook/Results/Tiles\\tile_4_1.tif...\n",
      "No objects found in the image.\n",
      "Processing image 067 of 112: C:/Users/cscar/Sunnybrook/Results/Tiles\\tile_4_2.tif...\n",
      "No objects found in the image.\n",
      "Processing image 068 of 112: C:/Users/cscar/Sunnybrook/Results/Tiles\\tile_4_3.tif...\n",
      "No objects found in the image.\n",
      "Processing image 069 of 112: C:/Users/cscar/Sunnybrook/Results/Tiles\\tile_4_4.tif...\n",
      "No objects found in the image.\n",
      "Processing image 070 of 112: C:/Users/cscar/Sunnybrook/Results/Tiles\\tile_4_5.tif...\n",
      "No objects found in the image.\n",
      "Processing image 071 of 112: C:/Users/cscar/Sunnybrook/Results/Tiles\\tile_4_6.tif...\n",
      "No objects found in the image.\n",
      "Processing image 072 of 112: C:/Users/cscar/Sunnybrook/Results/Tiles\\tile_4_7.tif...\n",
      "No objects found in the image.\n",
      "Processing image 073 of 112: C:/Users/cscar/Sunnybrook/Results/Tiles\\tile_5_0.tif...\n",
      "No objects found in the image.\n",
      "Processing image 074 of 112: C:/Users/cscar/Sunnybrook/Results/Tiles\\tile_5_1.tif...\n",
      "No objects found in the image.\n",
      "Processing image 075 of 112: C:/Users/cscar/Sunnybrook/Results/Tiles\\tile_5_2.tif...\n",
      "No objects found in the image.\n",
      "Processing image 076 of 112: C:/Users/cscar/Sunnybrook/Results/Tiles\\tile_5_3.tif...\n",
      "No objects found in the image.\n",
      "Processing image 077 of 112: C:/Users/cscar/Sunnybrook/Results/Tiles\\tile_5_4.tif...\n",
      "No objects found in the image.\n",
      "Processing image 078 of 112: C:/Users/cscar/Sunnybrook/Results/Tiles\\tile_5_5.tif...\n",
      "No objects found in the image.\n",
      "Processing image 079 of 112: C:/Users/cscar/Sunnybrook/Results/Tiles\\tile_5_6.tif...\n",
      "No objects found in the image.\n",
      "Processing image 080 of 112: C:/Users/cscar/Sunnybrook/Results/Tiles\\tile_5_7.tif...\n",
      "Processing image 081 of 112: C:/Users/cscar/Sunnybrook/Results/Tiles\\tile_6_0.tif...\n",
      "No objects found in the image.\n",
      "Processing image 082 of 112: C:/Users/cscar/Sunnybrook/Results/Tiles\\tile_6_1.tif...\n",
      "Processing image 083 of 112: C:/Users/cscar/Sunnybrook/Results/Tiles\\tile_6_2.tif...\n",
      "No objects found in the image.\n",
      "Processing image 084 of 112: C:/Users/cscar/Sunnybrook/Results/Tiles\\tile_6_3.tif...\n",
      "No objects found in the image.\n",
      "Processing image 085 of 112: C:/Users/cscar/Sunnybrook/Results/Tiles\\tile_6_4.tif...\n",
      "No objects found in the image.\n",
      "Processing image 086 of 112: C:/Users/cscar/Sunnybrook/Results/Tiles\\tile_6_5.tif...\n",
      "No objects found in the image.\n",
      "Processing image 087 of 112: C:/Users/cscar/Sunnybrook/Results/Tiles\\tile_6_6.tif...\n",
      "No objects found in the image.\n",
      "Processing image 088 of 112: C:/Users/cscar/Sunnybrook/Results/Tiles\\tile_6_7.tif...\n",
      "Processing image 089 of 112: C:/Users/cscar/Sunnybrook/Results/Tiles\\tile_7_0.tif...\n",
      "No objects found in the image.\n",
      "Processing image 090 of 112: C:/Users/cscar/Sunnybrook/Results/Tiles\\tile_7_1.tif...\n",
      "No objects found in the image.\n",
      "Processing image 091 of 112: C:/Users/cscar/Sunnybrook/Results/Tiles\\tile_7_2.tif...\n",
      "No objects found in the image.\n",
      "Processing image 092 of 112: C:/Users/cscar/Sunnybrook/Results/Tiles\\tile_7_3.tif...\n",
      "No objects found in the image.\n",
      "Processing image 093 of 112: C:/Users/cscar/Sunnybrook/Results/Tiles\\tile_7_4.tif...\n",
      "No objects found in the image.\n",
      "Processing image 094 of 112: C:/Users/cscar/Sunnybrook/Results/Tiles\\tile_7_5.tif...\n",
      "No objects found in the image.\n",
      "Processing image 095 of 112: C:/Users/cscar/Sunnybrook/Results/Tiles\\tile_7_6.tif...\n",
      "No objects found in the image.\n",
      "Processing image 096 of 112: C:/Users/cscar/Sunnybrook/Results/Tiles\\tile_7_7.tif...\n",
      "Processing image 097 of 112: C:/Users/cscar/Sunnybrook/Results/Tiles\\tile_8_0.tif...\n",
      "No objects found in the image.\n",
      "Processing image 098 of 112: C:/Users/cscar/Sunnybrook/Results/Tiles\\tile_8_1.tif...\n",
      "No objects found in the image.\n",
      "Processing image 099 of 112: C:/Users/cscar/Sunnybrook/Results/Tiles\\tile_8_2.tif...\n",
      "No objects found in the image.\n",
      "Processing image 100 of 112: C:/Users/cscar/Sunnybrook/Results/Tiles\\tile_8_3.tif...\n",
      "No objects found in the image.\n",
      "Processing image 101 of 112: C:/Users/cscar/Sunnybrook/Results/Tiles\\tile_8_4.tif...\n",
      "No objects found in the image.\n",
      "Processing image 102 of 112: C:/Users/cscar/Sunnybrook/Results/Tiles\\tile_8_5.tif...\n",
      "No objects found in the image.\n",
      "Processing image 103 of 112: C:/Users/cscar/Sunnybrook/Results/Tiles\\tile_8_6.tif...\n",
      "No objects found in the image.\n",
      "Processing image 104 of 112: C:/Users/cscar/Sunnybrook/Results/Tiles\\tile_8_7.tif...\n",
      "No objects found in the image.\n",
      "Processing image 105 of 112: C:/Users/cscar/Sunnybrook/Results/Tiles\\tile_9_0.tif...\n",
      "Processing image 106 of 112: C:/Users/cscar/Sunnybrook/Results/Tiles\\tile_9_1.tif...\n",
      "No objects found in the image.\n",
      "Processing image 107 of 112: C:/Users/cscar/Sunnybrook/Results/Tiles\\tile_9_2.tif...\n",
      "No objects found in the image.\n",
      "Processing image 108 of 112: C:/Users/cscar/Sunnybrook/Results/Tiles\\tile_9_3.tif...\n",
      "No objects found in the image.\n",
      "Processing image 109 of 112: C:/Users/cscar/Sunnybrook/Results/Tiles\\tile_9_4.tif...\n",
      "Processing image 110 of 112: C:/Users/cscar/Sunnybrook/Results/Tiles\\tile_9_5.tif...\n",
      "No objects found in the image.\n",
      "Processing image 111 of 112: C:/Users/cscar/Sunnybrook/Results/Tiles\\tile_9_6.tif...\n",
      "Processing image 112 of 112: C:/Users/cscar/Sunnybrook/Results/Tiles\\tile_9_7.tif...\n",
      "No objects found in the image.\n",
      "Saved the merged prediction to C:/Users/cscar/Sunnybrook/Results/Trees\\merged.tif.\n"
     ]
    }
   ],
   "source": [
    "sam.predict_batch(\n",
    "    images= tiles_dir,\n",
    "    out_dir= out_dir,\n",
    "    text_prompt=text_prompt,\n",
    "    box_threshold=0.6,\n",
    "    text_threshold=0.6,\n",
    "    mask_multiplier=255,\n",
    "    dtype=\"uint8\",\n",
    "    merge=True,\n",
    "    verbose=True,\n",
    ")"
   ]
  },
  {
   "cell_type": "code",
   "execution_count": 42,
   "id": "0ba209e9",
   "metadata": {},
   "outputs": [],
   "source": [
    "output_mask = \"C:/Users/cscar/Sunnybrook/Results/Tree_mask.tif\"\n",
    "output_vector = \"C:/Users/cscar/Sunnybrook/Results/Sunnybrook_2018_mask.shp\""
   ]
  },
  {
   "cell_type": "code",
   "execution_count": 43,
   "id": "027319a7",
   "metadata": {},
   "outputs": [],
   "source": [
    "merge_rasters(out_dir, output_mask, input_pattern='*.tif', output_format='GTiff', output_nodata=None, output_options=['COMPRESS=DEFLATE'])"
   ]
  },
  {
   "cell_type": "code",
   "execution_count": 44,
   "id": "196b82de",
   "metadata": {},
   "outputs": [],
   "source": [
    "sam.raster_to_vector(image = output_mask, output= output_vector)"
   ]
  },
  {
   "cell_type": "code",
   "execution_count": null,
   "id": "9281f11f-a86e-4a34-93c7-45c3a67b96ab",
   "metadata": {},
   "outputs": [],
   "source": [
    "sam.show_masks(cmap=\"binary_r\")"
   ]
  },
  {
   "cell_type": "code",
   "execution_count": null,
   "id": "3871d4da-9748-48b8-8c2e-71f215847fe0",
   "metadata": {},
   "outputs": [],
   "source": [
    "sam.show_anns(axis=\"off\", alpha=1, output=\"annotations.tif\")"
   ]
  },
  {
   "cell_type": "code",
   "execution_count": null,
   "id": "37f754cd-99e7-42b9-a926-b43a6cc51d0b",
   "metadata": {},
   "outputs": [],
   "source": [
    "leafmap.image_comparison(\n",
    "    \"satellite.tif\",\n",
    "    \"annotations.tif\",\n",
    "    label1=\"Satellite Image\",\n",
    "    label2=\"Image Segmentation\",\n",
    ")"
   ]
  },
  {
   "cell_type": "code",
   "execution_count": null,
   "id": "abdf8730-bf73-4088-aa36-9a9b320f21da",
   "metadata": {},
   "outputs": [],
   "source": [
    "m.add_raster(\"annotations.tif\", alpha=0.5, layer_name=\"Masks\")\n",
    "m"
   ]
  }
 ],
 "metadata": {
  "kernelspec": {
   "display_name": "Python 3 (ipykernel)",
   "language": "python",
   "name": "python3"
  },
  "language_info": {
   "codemirror_mode": {
    "name": "ipython",
    "version": 3
   },
   "file_extension": ".py",
   "mimetype": "text/x-python",
   "name": "python",
   "nbconvert_exporter": "python",
   "pygments_lexer": "ipython3",
   "version": "3.11.8"
  }
 },
 "nbformat": 4,
 "nbformat_minor": 5
}
