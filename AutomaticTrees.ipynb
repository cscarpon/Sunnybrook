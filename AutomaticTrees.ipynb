{
 "cells": [
  {
   "cell_type": "markdown",
   "id": "81cfc957-018a-42e3-961a-bbfbd2d174ca",
   "metadata": {},
   "source": [
    "# Generating object masks from input prompts with SAM"
   ]
  },
  {
   "cell_type": "code",
   "execution_count": 1,
   "id": "3e3a1bfd-c4e1-4d39-9269-e30bac5b0b09",
   "metadata": {},
   "outputs": [
    {
     "name": "stdout",
     "output_type": "stream",
     "text": [
      "Requirement already satisfied: segment-geospatial in c:\\users\\cscar\\anaconda3\\envs\\sam_geo\\lib\\site-packages (0.10.4)\n"
      "Note: you may need to restart the kernel to use updated packages.\n"
     ]
    }
   ],
   "source": [
    "# uncomment this to install sam-geo if not installed"
    "# %pip install segment-geospatial"
   ]
  },
  {
   "cell_type": "code",
   "execution_count": 2,
   "id": "53ffac71-566b-4f6b-9e79-5123a40d8b1c",
   "metadata": {},
   "outputs": [
    {
     "name": "stdout",
     "output_type": "stream",
     "text": [
      "Collecting xarray\n",
      "  Downloading xarray-2024.3.0-py3-none-any.whl.metadata (11 kB)\n",
      "Downloading xarray-2024.3.0-py3-none-any.whl (1.1 MB)\n",
      "   ---------------------------------------- 0.0/1.1 MB ? eta -:--:--\n",
      "   ---- ----------------------------------- 0.1/1.1 MB 2.4 MB/s eta 0:00:01\n",
      "   ----------- ---------------------------- 0.3/1.1 MB 3.4 MB/s eta 0:00:01\n",
      "   ------------------ --------------------- 0.5/1.1 MB 4.2 MB/s eta 0:00:01\n",
      "   ---------------------------- ----------- 0.8/1.1 MB 4.7 MB/s eta 0:00:01\n",
      "   ---------------------------------------  1.1/1.1 MB 5.1 MB/s eta 0:00:01\n",
      "   ---------------------------------------- 1.1/1.1 MB 4.8 MB/s eta 0:00:00\n",
      "Installing collected packages: xarray\n",
      "Successfully installed xarray-2024.3.0\n",
      "Note: you may need to restart the kernel to use updated packages.\n"
     ]
    }
   ],
   "source": [
    "# install xarray if you do not have it"
    "# %pip install xarray"
   ]
  },
  {
   "cell_type": "code",
   "execution_count": 3,
   "id": "f06b5117",
   "metadata": {},
   "outputs": [
    {
     "name": "stdout",
     "output_type": "stream",
     "text": [
      "Looking in links: https://download.pytorch.org/whl/torch_stable.html\n",
      "Note: you may need to restart the kernel to use updated packages.\n"
     ]
    }
   ],
   "source": [
    "# %pip install torch torchvision torchaudio -f https://download.pytorch.org/whl/torch_stable.html"
   ]
  },
  {
   "cell_type": "code",
   "execution_count": 1,
   "id": "f7fec7b7-5531-420a-adae-5547c8469cdc",
   "metadata": {},
   "outputs": [],
   "source": [
    "import os\n",
    "import leafmap\n",
    "from samgeo import SamGeo, show_image, download_file, overlay_images, tms_to_geotiff, split_raster, merge_rasters, raster_to_vector\n",
    "from samgeo.text_sam import LangSAM\n",
    "import xarray\n",
    "import torch"
   ]
  },
  {
   "cell_type": "markdown",
   "id": "7c1aa38f-2227-4639-9a44-4140445a7fcd",
   "metadata": {},
   "source": [
    "# Plotting the Satellite imagery"
   ]
  },
  {
   "cell_type": "code",
   "execution_count": 3,
   "id": "88aa7f3f-9f3d-4eb4-aa71-91de5921aae7",
   "metadata": {},
   "outputs": [],
   "source": [
    "image = \"C:/Users/cscar/Documents/EMC/Projects/Sunnybrooke/Data/Rectified/Tifs/2018.tif\""
   ]
  },
  {
   "cell_type": "code",
   "execution_count": 4,
   "id": "e3bc8152-bdc7-430e-80d8-08b2aa80b295",
   "metadata": {
    "scrolled": true
   },
   "outputs": [
    {
     "data": {
      "application/vnd.jupyter.widget-view+json": {
       "model_id": "6ddf05d069de4c14a6bcdcc139803b0a",
       "version_major": 2,
       "version_minor": 0
      },
      "text/plain": [
       "Map(center=[43.722069426835596, -79.37448883804542], controls=(ZoomControl(options=['position', 'zoom_in_text'…"
      ]
     },
     "execution_count": 4,
     "metadata": {},
     "output_type": "execute_result"
    }
   ],
   "source": [
    "m = leafmap.Map(center=[43.722069426835596, -79.37448883804542], zoom=18, height=\"1000px\")\n",
    "m.add_basemap(\"SATELLITE\")\n",
    "m.layers[-1].visible = False\n",
    "m.add_raster(image, layer_name=\"Image\")\n",
    "m "
   ]
  },
  {
   "cell_type": "code",
   "execution_count": 5,
   "id": "720efe09-7878-4289-a9bb-f7f96e43101f",
   "metadata": {},
   "outputs": [],
   "source": [
    "# if m.user_roi_bounds() is not None:\n",
    "#     bbox = m.user_roi_bounds()\n",
    "# else:\n",
    "#     bbox = [-122.2659, 37.8682, -122.2521, 37.8741]"
   ]
  },
  {
   "cell_type": "markdown",
   "id": "96bf3718-899f-489a-abd8-540367eb8dfc",
   "metadata": {},
   "source": [
    "## Initialize SAM class\n",
    "\n",
    "Specify the file path to the model checkpoint. If it is not specified, the model will to downloaded to the working directory."
   ]
  },
  {
   "cell_type": "code",
   "execution_count": 5,
   "id": "15a47d14-56be-4499-8390-c52822c3514f",
   "metadata": {},
   "outputs": [],
   "source": [
    "# Define the input and output directories\n",
    "tiles_dir = \"C:/Users/cscar/data/2021/Tiles/\"  # Directory containing the image tiles\n",
    "masks_dir = \"C:/Users/cscar/data/2021/Masks/\"   # Directory to save the masks\n",
    "results_dir = \"C:/Users/cscar/Results/2021/\"  # Directory to save the results"
   ]
  },
  {
   "cell_type": "code",
   "execution_count": 6,
   "id": "7cb66ec2-b63c-44ee-b7a4-f01f84db062b",
   "metadata": {},
   "outputs": [],
   "source": [
    "checkpoint = os.path.join(results_dir, 'sam_vit_h_4b8939.pth')"
   ]
  },
  {
   "cell_type": "code",
   "execution_count": 7,
   "id": "b74f399a",
   "metadata": {},
   "outputs": [],
   "source": [
    "sam = SamGeo(\n",
    "    model_type=\"vit_h\",\n",
    "    automatic = False,\n",
    "    sam_kwargs=None,\n",
    "    checkpoint=checkpoint,\n",
    "    device = \"cuda\"\n",
    ")"
   ]
  },
  {
   "cell_type": "code",
   "execution_count": 8,
   "id": "b11f1c00",
   "metadata": {},
   "outputs": [],
   "source": [
    "sam.set_image(image)"
   ]
  },
  {
   "cell_type": "code",
   "execution_count": 9,
   "id": "030f9a5f",
   "metadata": {},
   "outputs": [
    {
     "data": {
      "application/vnd.jupyter.widget-view+json": {
       "model_id": "5874129b874f4b4c883849e6a3a711d5",
       "version_major": 2,
       "version_minor": 0
      },
      "text/plain": [
       "Map(center=[20, 0], controls=(ZoomControl(options=['position', 'zoom_in_text', 'zoom_in_title', 'zoom_out_text…"
      ]
     },
     "execution_count": 9,
     "metadata": {},
     "output_type": "execute_result"
    }
   ],
   "source": [
    "m = sam.show_map()\n",
    "m"
   ]
  },
  {
   "cell_type": "code",
   "execution_count": null,
   "id": "4c9f1b91",
   "metadata": {},
   "outputs": [],
   "source": []
  },
  {
   "cell_type": "code",
   "execution_count": 31,
   "id": "a64b077a",
   "metadata": {},
   "outputs": [],
   "source": [
    "split_raster(image, out_dir=out_dir, tile_size=(1000, 1000), overlap=0)"
   ]
  },
  {
   "cell_type": "code",
   "execution_count": 10,
   "id": "9fcb134b",
   "metadata": {},
   "outputs": [],
   "source": [
    "# List all image tiles\n",
    "tile_files = [f for f in os.listdir(tiles_dir) if os.path.isfile(os.path.join(tiles_dir, f))]"
   ]
  },
  {
   "cell_type": "code",
   "execution_count": 13,
   "id": "d31d6ad2",
   "metadata": {},
   "outputs": [
    {
     "name": "stdout",
     "output_type": "stream",
     "text": [
      "Processed C:/Users/cscar/Results/tile_0_0.tif and saved mask to C:/Users/cscar/Masks/mask_tile_0_0.tif\n",
      "Processed C:/Users/cscar/Results/tile_9_7.tif and saved mask to C:/Users/cscar/Masks/mask_tile_9_7.tif\n"
     ]
    }
   ],
   "source": [
    "# Process each tile\n",
    "for tile_file in tile_files:\n",
    "    tile_path = os.path.join(tiles_dir, tile_file)\n",
    "    output_path = os.path.join(masks_dir, f\"mask_{tile_file}\")\n",
    "    \n",
    "    # Assuming the method to generate masks is called 'generate'\n",
    "    # You will need to adjust this according to the actual method's parameters and functionality\n",
    "    sam.generate(source=tile_path, output=output_path)\n",
    "    \n",
    "    print(f\"Processed {tile_path} and saved mask to {output_path}\")"
   ]
  },
  {
   "cell_type": "code",
   "execution_count": 26,
   "id": "850839b1",
   "metadata": {},
   "outputs": [],
   "source": [
    "output = \"C:/Users/cscar/Data/2018_mask.tif\"\n"
   ]
  },
  {
   "cell_type": "code",
   "execution_count": 31,
   "id": "74549634",
   "metadata": {},
   "outputs": [],
   "source": [
    "merge_rasters(masks_dir, output, input_pattern='*.tif', output_format='GTiff', output_nodata=None, output_options=['COMPRESS=DEFLATE'])"
   ]
  },
  {
   "cell_type": "code",
   "execution_count": 32,
   "id": "9814f76f-9419-4216-bb5c-286847df1693",
   "metadata": {},
   "outputs": [],
   "source": [
    "sam.raster_to_vector(image = output, output= output_vector)"
   ]
  },
  {
   "cell_type": "code",
   "execution_count": 35,
   "id": "3c71147e-edbc-4152-a05b-1d92cd2e78ab",
   "metadata": {},
   "outputs": [
    {
     "data": {
      "application/vnd.jupyter.widget-view+json": {
       "model_id": "2e085ea7467e40e0846555bbec8f0ef8",
       "version_major": 2,
       "version_minor": 0
      },
      "text/plain": [
       "GroundingDINO_SwinB.cfg.py:   0%|          | 0.00/1.01k [00:00<?, ?B/s]"
      ]
     },
     "metadata": {},
     "output_type": "display_data"
    },
    {
     "name": "stdout",
     "output_type": "stream",
     "text": [
      "final text_encoder_type: bert-base-uncased\n"
     ]
    },
    {
     "data": {
      "application/vnd.jupyter.widget-view+json": {
       "model_id": "2220f24cfd93426ea990b9139ef17044",
       "version_major": 2,
       "version_minor": 0
      },
      "text/plain": [
       "tokenizer_config.json:   0%|          | 0.00/48.0 [00:00<?, ?B/s]"
      ]
     },
     "metadata": {},
     "output_type": "display_data"
    },
    {
     "data": {
      "application/vnd.jupyter.widget-view+json": {
       "model_id": "4ca7dc73e2b14338bb9d2f2c890663cd",
       "version_major": 2,
       "version_minor": 0
      },
      "text/plain": [
       "config.json:   0%|          | 0.00/570 [00:00<?, ?B/s]"
      ]
     },
     "metadata": {},
     "output_type": "display_data"
    },
    {
     "data": {
      "application/vnd.jupyter.widget-view+json": {
       "model_id": "3b657ac839654458ab089ada5535bd71",
       "version_major": 2,
       "version_minor": 0
      },
      "text/plain": [
       "vocab.txt:   0%|          | 0.00/232k [00:00<?, ?B/s]"
      ]
     },
     "metadata": {},
     "output_type": "display_data"
    },
    {
     "data": {
      "application/vnd.jupyter.widget-view+json": {
       "model_id": "bd899c93adaf42469966b7990dd3a337",
       "version_major": 2,
       "version_minor": 0
      },
      "text/plain": [
       "tokenizer.json:   0%|          | 0.00/466k [00:00<?, ?B/s]"
      ]
     },
     "metadata": {},
     "output_type": "display_data"
    },
    {
     "data": {
      "application/vnd.jupyter.widget-view+json": {
       "model_id": "64f486a6a51d4be2a7670bfbf748c3d7",
       "version_major": 2,
       "version_minor": 0
      },
      "text/plain": [
       "model.safetensors:   0%|          | 0.00/440M [00:00<?, ?B/s]"
      ]
     },
     "metadata": {},
     "output_type": "display_data"
    },
    {
     "data": {
      "application/vnd.jupyter.widget-view+json": {
       "model_id": "dfdc634adabd441d804d307b9eb07f4c",
       "version_major": 2,
       "version_minor": 0
      },
      "text/plain": [
       "groundingdino_swinb_cogcoor.pth:   0%|          | 0.00/938M [00:00<?, ?B/s]"
      ]
     },
     "metadata": {},
     "output_type": "display_data"
    }
   ],
   "source": [
    "sam = LangSAM()"
   ]
  },
  {
   "cell_type": "code",
   "execution_count": 38,
   "id": "2812dfcd",
   "metadata": {},
   "outputs": [],
   "source": [
    "text_prompt = \"tree\""
   ]
  },
  {
   "cell_type": "code",
   "execution_count": 36,
   "id": "c7163b68",
   "metadata": {},
   "outputs": [],
   "source": [
    "tiles_dir = \"C:/Users/cscarResults/Tiles/\"\n",
    "out_dir = \"C:/Users/cscarResults/Trees\"  # Directory to save the results"
   ]
  },
  {
   "cell_type": "code",
   "execution_count": 46,
   "id": "9d70626d",
   "metadata": {},
   "outputs": [
    {
     "name": "stdout",
     "output_type": "stream",
     "text": [
      "Saved the merged prediction to C:/Users/cscar/Results/Trees\\merged.tif.\n"
     ]
    }
   ],
   "source": [
    "sam.predict_batch(\n",
    "    images= tiles_dir,\n",
    "    out_dir= out_dir,\n",
    "    text_prompt=text_prompt,\n",
    "    box_threshold=0.6,\n",
    "    text_threshold=0.6,\n",
    "    mask_multiplier=255,\n",
    "    dtype=\"uint8\",\n",
    "    merge=True,\n",
    "    verbose=True,\n",
    ")"
   ]
  },
  {
   "cell_type": "code",
   "execution_count": 42,
   "id": "0ba209e9",
   "metadata": {},
   "outputs": [],
   "source": [
    "output_mask = \"C:/Users/cscar/Results/Tree_mask.tif\"\n",
    "output_vector = \"C:/Users/cscar/Results/Sunnybrook_2018_mask.shp\""
   ]
  },
  {
   "cell_type": "code",
   "execution_count": 43,
   "id": "027319a7",
   "metadata": {},
   "outputs": [],
   "source": [
    "merge_rasters(out_dir, output_mask, input_pattern='*.tif', output_format='GTiff', output_nodata=None, output_options=['COMPRESS=DEFLATE'])"
   ]
  },
  {
   "cell_type": "code",
   "execution_count": 44,
   "id": "196b82de",
   "metadata": {},
   "outputs": [],
   "source": [
    "sam.raster_to_vector(image = output_mask, output= output_vector)"
   ]
  },
  {
   "cell_type": "code",
   "execution_count": null,
   "id": "9281f11f-a86e-4a34-93c7-45c3a67b96ab",
   "metadata": {},
   "outputs": [],
   "source": [
    "sam.show_masks(cmap=\"binary_r\")"
   ]
  },
  {
   "cell_type": "code",
   "execution_count": null,
   "id": "3871d4da-9748-48b8-8c2e-71f215847fe0",
   "metadata": {},
   "outputs": [],
   "source": [
    "sam.show_anns(axis=\"off\", alpha=1, output=\"annotations.tif\")"
   ]
  },
  {
   "cell_type": "code",
   "execution_count": null,
   "id": "37f754cd-99e7-42b9-a926-b43a6cc51d0b",
   "metadata": {},
   "outputs": [],
   "source": [
    "leafmap.image_comparison(\n",
    "    \"satellite.tif\",\n",
    "    \"annotations.tif\",\n",
    "    label1=\"Satellite Image\",\n",
    "    label2=\"Image Segmentation\",\n",
    ")"
   ]
  },
  {
   "cell_type": "code",
   "execution_count": null,
   "id": "abdf8730-bf73-4088-aa36-9a9b320f21da",
   "metadata": {},
   "outputs": [],
   "source": [
    "m.add_raster(\"annotations.tif\", alpha=0.5, layer_name=\"Masks\")\n",
    "m"
   ]
  }
 ],
 "metadata": {
  "kernelspec": {
   "display_name": "Python 3 (ipykernel)",
   "language": "python",
   "name": "python3"
  },
  "language_info": {
   "codemirror_mode": {
    "name": "ipython",
    "version": 3
   },
   "file_extension": ".py",
   "mimetype": "text/x-python",
   "name": "python",
   "nbconvert_exporter": "python",
   "pygments_lexer": "ipython3",
   "version": "3.11.8"
  }
 },
 "nbformat": 4,
 "nbformat_minor": 5
}
